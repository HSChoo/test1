{
  "nbformat": 4,
  "nbformat_minor": 0,
  "metadata": {
    "colab": {
      "provenance": [],
      "gpuType": "T4",
      "authorship_tag": "ABX9TyP9oL2bNYz/YiVwl8l+RgCj",
      "include_colab_link": true
    },
    "kernelspec": {
      "name": "python3",
      "display_name": "Python 3"
    },
    "language_info": {
      "name": "python"
    },
    "accelerator": "GPU"
  },
  "cells": [
    {
      "cell_type": "markdown",
      "metadata": {
        "id": "view-in-github",
        "colab_type": "text"
      },
      "source": [
        "<a href=\"https://colab.research.google.com/github/HSChoo/test1/blob/main/LOGO_Yolo_v4.ipynb\" target=\"_parent\"><img src=\"https://colab.research.google.com/assets/colab-badge.svg\" alt=\"Open In Colab\"/></a>"
      ]
    },
    {
      "cell_type": "code",
      "execution_count": 1,
      "metadata": {
        "colab": {
          "base_uri": "https://localhost:8080/"
        },
        "id": "hWwqHphKtGd1",
        "outputId": "c895ba44-4c3f-45ec-f7d6-de9ad9b10f17"
      },
      "outputs": [
        {
          "output_type": "stream",
          "name": "stdout",
          "text": [
            "  % Total    % Received % Xferd  Average Speed   Time    Time     Time  Current\n",
            "                                 Dload  Upload   Total   Spent    Left  Speed\n",
            "100   901  100   901    0     0   1916      0 --:--:-- --:--:-- --:--:--  1912\n",
            "100 17.1M  100 17.1M    0     0  18.6M      0 --:--:-- --:--:-- --:--:-- 18.6M\n"
          ]
        }
      ],
      "source": [
        "#roboflow data 사용\n",
        "!curl -L -o robo.zip https://app.roboflow.com/ds/QS3J7HKCEo?key=aI7rMQSce8\n",
        "#\"roboflow data\"를 사용하여 데이터를 다운로드하는 명령어입니다.\n",
        "#curl을 사용하여 roboflow.com에서 데이터셋을 다운로드하고, 해당 데이터셋의 키를 사용하여 다운로드합니다.\n",
        "#다운로드된 데이터는 \"robo.zip\" 파일로 저장됩니다."
      ]
    },
    {
      "cell_type": "code",
      "source": [
        "!mkdir dataset\n",
        "#\"dataset\"이라는 디렉토리를 생성하는 명령어입니다.\n",
        "#이 디렉토리는 데이터셋을 저장하기 위한 폴더로 사용될 수 있습니다."
      ],
      "metadata": {
        "id": "gFOcmrxStIJB"
      },
      "execution_count": 2,
      "outputs": []
    },
    {
      "cell_type": "code",
      "source": [
        "!mv robo.zip ./dataset\n",
        "#\"robo.zip\" 파일을 \"dataset\" 디렉토리로 이동시키는 명령어입니다.\n",
        "#다운로드한 데이터셋 파일이 \"dataset\" 디렉토리 안에 저장됩니다."
      ],
      "metadata": {
        "id": "mFqhxnqhuJQt"
      },
      "execution_count": 3,
      "outputs": []
    },
    {
      "cell_type": "code",
      "source": [
        "%cd dataset\n",
        "!unzip -oq robo.zip\n",
        "#\"dataset\" 디렉토리로 이동한 후에 \"robo.zip\" 파일을 압축 해제하는 명령어입니다.\n",
        "#\"robo.zip\" 파일의 내용이 \"dataset\" 디렉토리에 압축 해제됩니다."
      ],
      "metadata": {
        "colab": {
          "base_uri": "https://localhost:8080/"
        },
        "id": "c3DHaYS8uJNR",
        "outputId": "6e1bb2f0-2227-41dc-cc38-0c7e5dd94cf1"
      },
      "execution_count": 4,
      "outputs": [
        {
          "output_type": "stream",
          "name": "stdout",
          "text": [
            "/content/dataset\n"
          ]
        }
      ]
    },
    {
      "cell_type": "code",
      "source": [
        "# Yolov5 환경설정\n",
        "# 초기화\n",
        "%cd /content\n",
        "!git clone https://github.com/ultralytics/yolov5.git\n",
        "#\"/content\" 디렉토리로 이동한 후에 \"yolov5\"라는 이름으로 GitHub 저장소를 복제하는 명령어입니다.\n",
        "#\"yolov5\" 프로젝트가 \"/content\" 디렉토리에 복제됩니다."
      ],
      "metadata": {
        "colab": {
          "base_uri": "https://localhost:8080/"
        },
        "id": "kkmMbfcXuJKa",
        "outputId": "f24ecf5d-9a91-4bab-b83f-ce1fb016630d"
      },
      "execution_count": 5,
      "outputs": [
        {
          "output_type": "stream",
          "name": "stdout",
          "text": [
            "/content\n",
            "Cloning into 'yolov5'...\n",
            "remote: Enumerating objects: 15927, done.\u001b[K\n",
            "remote: Counting objects: 100% (47/47), done.\u001b[K\n",
            "remote: Compressing objects: 100% (39/39), done.\u001b[K\n",
            "remote: Total 15927 (delta 20), reused 23 (delta 8), pack-reused 15880\u001b[K\n",
            "Receiving objects: 100% (15927/15927), 14.66 MiB | 28.54 MiB/s, done.\n",
            "Resolving deltas: 100% (10915/10915), done.\n"
          ]
        }
      ]
    },
    {
      "cell_type": "code",
      "source": [
        "%cd /content/yolov5/\n",
        "!pip install -r requirements.txt\n",
        "#\"/content/yolov5/\" 디렉토리로 이동한 후에 \"requirements.txt\" 파일에 명시된 필수 패키지들을 설치하는 명령어입니다.\n",
        "#필요한 패키지들이 설치되어 프로젝트를 실행할 수 있게 됩니다."
      ],
      "metadata": {
        "colab": {
          "base_uri": "https://localhost:8080/"
        },
        "id": "eYmXVPQwuJHb",
        "outputId": "d039e09f-a0b2-4714-f93a-2c47b1c37a38"
      },
      "execution_count": 6,
      "outputs": [
        {
          "output_type": "stream",
          "name": "stdout",
          "text": [
            "/content/yolov5\n",
            "Collecting gitpython>=3.1.30 (from -r requirements.txt (line 5))\n",
            "  Downloading GitPython-3.1.32-py3-none-any.whl (188 kB)\n",
            "\u001b[2K     \u001b[90m━━━━━━━━━━━━━━━━━━━━━━━━━━━━━━━━━━━━━━━\u001b[0m \u001b[32m188.5/188.5 kB\u001b[0m \u001b[31m3.0 MB/s\u001b[0m eta \u001b[36m0:00:00\u001b[0m\n",
            "\u001b[?25hRequirement already satisfied: matplotlib>=3.3 in /usr/local/lib/python3.10/dist-packages (from -r requirements.txt (line 6)) (3.7.1)\n",
            "Requirement already satisfied: numpy>=1.22.2 in /usr/local/lib/python3.10/dist-packages (from -r requirements.txt (line 7)) (1.23.5)\n",
            "Requirement already satisfied: opencv-python>=4.1.1 in /usr/local/lib/python3.10/dist-packages (from -r requirements.txt (line 8)) (4.8.0.76)\n",
            "Requirement already satisfied: Pillow>=7.1.2 in /usr/local/lib/python3.10/dist-packages (from -r requirements.txt (line 9)) (9.4.0)\n",
            "Requirement already satisfied: psutil in /usr/local/lib/python3.10/dist-packages (from -r requirements.txt (line 10)) (5.9.5)\n",
            "Requirement already satisfied: PyYAML>=5.3.1 in /usr/local/lib/python3.10/dist-packages (from -r requirements.txt (line 11)) (6.0.1)\n",
            "Requirement already satisfied: requests>=2.23.0 in /usr/local/lib/python3.10/dist-packages (from -r requirements.txt (line 12)) (2.31.0)\n",
            "Requirement already satisfied: scipy>=1.4.1 in /usr/local/lib/python3.10/dist-packages (from -r requirements.txt (line 13)) (1.10.1)\n",
            "Collecting thop>=0.1.1 (from -r requirements.txt (line 14))\n",
            "  Downloading thop-0.1.1.post2209072238-py3-none-any.whl (15 kB)\n",
            "Requirement already satisfied: torch>=1.8.0 in /usr/local/lib/python3.10/dist-packages (from -r requirements.txt (line 15)) (2.0.1+cu118)\n",
            "Requirement already satisfied: torchvision>=0.9.0 in /usr/local/lib/python3.10/dist-packages (from -r requirements.txt (line 16)) (0.15.2+cu118)\n",
            "Requirement already satisfied: tqdm>=4.64.0 in /usr/local/lib/python3.10/dist-packages (from -r requirements.txt (line 17)) (4.66.1)\n",
            "Collecting ultralytics>=8.0.147 (from -r requirements.txt (line 18))\n",
            "  Downloading ultralytics-8.0.164-py3-none-any.whl (608 kB)\n",
            "\u001b[2K     \u001b[90m━━━━━━━━━━━━━━━━━━━━━━━━━━━━━━━━━━━━━━━\u001b[0m \u001b[32m608.9/608.9 kB\u001b[0m \u001b[31m9.3 MB/s\u001b[0m eta \u001b[36m0:00:00\u001b[0m\n",
            "\u001b[?25hRequirement already satisfied: pandas>=1.1.4 in /usr/local/lib/python3.10/dist-packages (from -r requirements.txt (line 27)) (1.5.3)\n",
            "Requirement already satisfied: seaborn>=0.11.0 in /usr/local/lib/python3.10/dist-packages (from -r requirements.txt (line 28)) (0.12.2)\n",
            "Requirement already satisfied: setuptools>=65.5.1 in /usr/local/lib/python3.10/dist-packages (from -r requirements.txt (line 42)) (67.7.2)\n",
            "Collecting gitdb<5,>=4.0.1 (from gitpython>=3.1.30->-r requirements.txt (line 5))\n",
            "  Downloading gitdb-4.0.10-py3-none-any.whl (62 kB)\n",
            "\u001b[2K     \u001b[90m━━━━━━━━━━━━━━━━━━━━━━━━━━━━━━━━━━━━━━━━\u001b[0m \u001b[32m62.7/62.7 kB\u001b[0m \u001b[31m8.3 MB/s\u001b[0m eta \u001b[36m0:00:00\u001b[0m\n",
            "\u001b[?25hRequirement already satisfied: contourpy>=1.0.1 in /usr/local/lib/python3.10/dist-packages (from matplotlib>=3.3->-r requirements.txt (line 6)) (1.1.0)\n",
            "Requirement already satisfied: cycler>=0.10 in /usr/local/lib/python3.10/dist-packages (from matplotlib>=3.3->-r requirements.txt (line 6)) (0.11.0)\n",
            "Requirement already satisfied: fonttools>=4.22.0 in /usr/local/lib/python3.10/dist-packages (from matplotlib>=3.3->-r requirements.txt (line 6)) (4.42.1)\n",
            "Requirement already satisfied: kiwisolver>=1.0.1 in /usr/local/lib/python3.10/dist-packages (from matplotlib>=3.3->-r requirements.txt (line 6)) (1.4.4)\n",
            "Requirement already satisfied: packaging>=20.0 in /usr/local/lib/python3.10/dist-packages (from matplotlib>=3.3->-r requirements.txt (line 6)) (23.1)\n",
            "Requirement already satisfied: pyparsing>=2.3.1 in /usr/local/lib/python3.10/dist-packages (from matplotlib>=3.3->-r requirements.txt (line 6)) (3.1.1)\n",
            "Requirement already satisfied: python-dateutil>=2.7 in /usr/local/lib/python3.10/dist-packages (from matplotlib>=3.3->-r requirements.txt (line 6)) (2.8.2)\n",
            "Requirement already satisfied: charset-normalizer<4,>=2 in /usr/local/lib/python3.10/dist-packages (from requests>=2.23.0->-r requirements.txt (line 12)) (3.2.0)\n",
            "Requirement already satisfied: idna<4,>=2.5 in /usr/local/lib/python3.10/dist-packages (from requests>=2.23.0->-r requirements.txt (line 12)) (3.4)\n",
            "Requirement already satisfied: urllib3<3,>=1.21.1 in /usr/local/lib/python3.10/dist-packages (from requests>=2.23.0->-r requirements.txt (line 12)) (2.0.4)\n",
            "Requirement already satisfied: certifi>=2017.4.17 in /usr/local/lib/python3.10/dist-packages (from requests>=2.23.0->-r requirements.txt (line 12)) (2023.7.22)\n",
            "Requirement already satisfied: filelock in /usr/local/lib/python3.10/dist-packages (from torch>=1.8.0->-r requirements.txt (line 15)) (3.12.2)\n",
            "Requirement already satisfied: typing-extensions in /usr/local/lib/python3.10/dist-packages (from torch>=1.8.0->-r requirements.txt (line 15)) (4.7.1)\n",
            "Requirement already satisfied: sympy in /usr/local/lib/python3.10/dist-packages (from torch>=1.8.0->-r requirements.txt (line 15)) (1.12)\n",
            "Requirement already satisfied: networkx in /usr/local/lib/python3.10/dist-packages (from torch>=1.8.0->-r requirements.txt (line 15)) (3.1)\n",
            "Requirement already satisfied: jinja2 in /usr/local/lib/python3.10/dist-packages (from torch>=1.8.0->-r requirements.txt (line 15)) (3.1.2)\n",
            "Requirement already satisfied: triton==2.0.0 in /usr/local/lib/python3.10/dist-packages (from torch>=1.8.0->-r requirements.txt (line 15)) (2.0.0)\n",
            "Requirement already satisfied: cmake in /usr/local/lib/python3.10/dist-packages (from triton==2.0.0->torch>=1.8.0->-r requirements.txt (line 15)) (3.27.2)\n",
            "Requirement already satisfied: lit in /usr/local/lib/python3.10/dist-packages (from triton==2.0.0->torch>=1.8.0->-r requirements.txt (line 15)) (16.0.6)\n",
            "Requirement already satisfied: py-cpuinfo in /usr/local/lib/python3.10/dist-packages (from ultralytics>=8.0.147->-r requirements.txt (line 18)) (9.0.0)\n",
            "Requirement already satisfied: pytz>=2020.1 in /usr/local/lib/python3.10/dist-packages (from pandas>=1.1.4->-r requirements.txt (line 27)) (2023.3)\n",
            "Collecting smmap<6,>=3.0.1 (from gitdb<5,>=4.0.1->gitpython>=3.1.30->-r requirements.txt (line 5))\n",
            "  Downloading smmap-5.0.0-py3-none-any.whl (24 kB)\n",
            "Requirement already satisfied: six>=1.5 in /usr/local/lib/python3.10/dist-packages (from python-dateutil>=2.7->matplotlib>=3.3->-r requirements.txt (line 6)) (1.16.0)\n",
            "Requirement already satisfied: MarkupSafe>=2.0 in /usr/local/lib/python3.10/dist-packages (from jinja2->torch>=1.8.0->-r requirements.txt (line 15)) (2.1.3)\n",
            "Requirement already satisfied: mpmath>=0.19 in /usr/local/lib/python3.10/dist-packages (from sympy->torch>=1.8.0->-r requirements.txt (line 15)) (1.3.0)\n",
            "Installing collected packages: smmap, gitdb, gitpython, ultralytics, thop\n",
            "Successfully installed gitdb-4.0.10 gitpython-3.1.32 smmap-5.0.0 thop-0.1.1.post2209072238 ultralytics-8.0.164\n"
          ]
        }
      ]
    },
    {
      "cell_type": "code",
      "source": [
        "!pwd\n",
        "#현재 작업 디렉토리를 출력하는 명령어입니다."
      ],
      "metadata": {
        "colab": {
          "base_uri": "https://localhost:8080/"
        },
        "id": "1v_o8MRcuJES",
        "outputId": "8e8c9c17-75de-45c1-f897-ec274d093a13"
      },
      "execution_count": 7,
      "outputs": [
        {
          "output_type": "stream",
          "name": "stdout",
          "text": [
            "/content/yolov5\n"
          ]
        }
      ]
    },
    {
      "cell_type": "code",
      "source": [
        "%cat /content/dataset/data.yaml\n",
        "#\"/content/dataset/data.yaml\" 파일의 내용을 출력하는 명령어입니다.\n",
        "#해당 파일의 내용이 출력됩니다."
      ],
      "metadata": {
        "colab": {
          "base_uri": "https://localhost:8080/"
        },
        "id": "SLlUUhCJuJBJ",
        "outputId": "9b77c4ee-5e8b-4e97-9f3d-6609d8e31a2d"
      },
      "execution_count": 8,
      "outputs": [
        {
          "output_type": "stream",
          "name": "stdout",
          "text": [
            "train: ../train/images\n",
            "val: ../valid/images\n",
            "test: ../test/images\n",
            "\n",
            "nc: 2\n",
            "names: ['NG_L', 'OK_L']\n",
            "\n",
            "roboflow:\n",
            "  workspace: hs-esyhr\n",
            "  project: logo4-yuhxx\n",
            "  version: 4\n",
            "  license: CC BY 4.0\n",
            "  url: https://universe.roboflow.com/hs-esyhr/logo4-yuhxx/dataset/4"
          ]
        }
      ]
    },
    {
      "cell_type": "code",
      "source": [
        "%cd /\n",
        "from glob import glob\n",
        "train_img_list = glob('/content/dataset/train/images/*.jpg')\n",
        "val_img_list = glob('/content/dataset/valid/images/*.jpg')\n",
        "print(len(train_img_list)), print(len(val_img_list))\n",
        "#현재 작업 디렉토리를 루트 디렉토리로 변경합니다.\n",
        "#glob 모듈을 사용하여 '/content/dataset/train/images/*.jpg' 경로에 해당하는 모든 jpg 파일의 리스트를 가져옵니다.\n",
        "#glob 모듈을 사용하여 '/content/dataset/valid/images/*.jpg' 경로에 해당하는 모든 jpg 파일의 리스트를 가져옵니다.\n",
        "#train_img_list의 길이를 출력합니다.\n",
        "#val_img_list의 길이를 출력합니다."
      ],
      "metadata": {
        "colab": {
          "base_uri": "https://localhost:8080/"
        },
        "id": "sFQgHasluI7E",
        "outputId": "782d2e8e-fb51-4d51-b1e5-86d474f79e4b"
      },
      "execution_count": 9,
      "outputs": [
        {
          "output_type": "stream",
          "name": "stdout",
          "text": [
            "/\n",
            "210\n",
            "20\n"
          ]
        },
        {
          "output_type": "execute_result",
          "data": {
            "text/plain": [
              "(None, None)"
            ]
          },
          "metadata": {},
          "execution_count": 9
        }
      ]
    },
    {
      "cell_type": "code",
      "source": [
        "train_img_list[:3]\n",
        "#train_img_list의 처음 3개의 요소가 출력됩니다."
      ],
      "metadata": {
        "colab": {
          "base_uri": "https://localhost:8080/"
        },
        "id": "kCSXH4eIuI4J",
        "outputId": "7ee1d8bd-44e3-4a49-88b1-a12ed970d4ab"
      },
      "execution_count": 10,
      "outputs": [
        {
          "output_type": "execute_result",
          "data": {
            "text/plain": [
              "['/content/dataset/train/images/NG_4_png.rf.07c0c6072ecdc91ccbb5b7e6c34dec21.jpg',\n",
              " '/content/dataset/train/images/OK_45_png.rf.6d5535c4530a4ffefeae7a174b2d5e17.jpg',\n",
              " '/content/dataset/train/images/OK_20_png.rf.faa34f3829c16a4a4b417c6fe66a7ec8.jpg']"
            ]
          },
          "metadata": {},
          "execution_count": 10
        }
      ]
    },
    {
      "cell_type": "code",
      "source": [
        "with open('/content/dataset/train.txt', 'w') as f:\n",
        "  f.write('\\n'.join(train_img_list) + '\\n')\n",
        "with open('/content/dataset/val.txt', 'w') as f:\n",
        "  f.write('\\n'.join(val_img_list) + '\\n')\n",
        "#'/content/dataset/train.txt' 파일을 쓰기 모드로 엽니다.\n",
        "#train_img_list의 모든 요소를 개행문자('\\n')로 구분하여 문자열로 변환한 후, 파일에 씁니다.\n",
        "#'/content/dataset/val.txt' 파일을 쓰기 모드로 엽니다.\n",
        "#val_img_list의 모든 요소를 개행문자('\\n')로 구분하여 문자열로 변환한 후, 파일에 씁니다.\n",
        "#train_img_list의 요소들이 'train.txt' 파일에, val_img_list의 요소들이 'val.txt' 파일에 저장됩니다."
      ],
      "metadata": {
        "id": "Lp3JU4iYuI1S"
      },
      "execution_count": 11,
      "outputs": []
    },
    {
      "cell_type": "code",
      "source": [
        "!head -5 /content/dataset/train.txt\n",
        "#'train.txt' 파일의 처음 5줄이 출력됩니다."
      ],
      "metadata": {
        "colab": {
          "base_uri": "https://localhost:8080/"
        },
        "id": "JN5AyRcquIyB",
        "outputId": "abf3bf09-371a-4406-d8b5-817c7998aa6e"
      },
      "execution_count": 12,
      "outputs": [
        {
          "output_type": "stream",
          "name": "stdout",
          "text": [
            "/content/dataset/train/images/NG_4_png.rf.07c0c6072ecdc91ccbb5b7e6c34dec21.jpg\n",
            "/content/dataset/train/images/OK_45_png.rf.6d5535c4530a4ffefeae7a174b2d5e17.jpg\n",
            "/content/dataset/train/images/OK_20_png.rf.faa34f3829c16a4a4b417c6fe66a7ec8.jpg\n",
            "/content/dataset/train/images/OK_27_png.rf.eab0ed1c52d8b4f49904c0d0f297a1a9.jpg\n",
            "/content/dataset/train/images/NG_12_png.rf.ff3c39872ee0a6c71405e7965c65c427.jpg\n"
          ]
        }
      ]
    },
    {
      "cell_type": "code",
      "source": [
        "#yaml 파일 업데이트\n",
        "import yaml\n",
        "with open('/content/dataset/data.yaml', 'r') as f:\n",
        "  data = yaml.safe_load(f)\n",
        "print(data)\n",
        "#'data.yaml' 파일을 읽기 모드로 엽니다.\n",
        "#yaml.safe_load() 함수를 사용하여 파일의 내용을 파싱하여 data 변수에 저장합니다.\n",
        "#data 변수를 출력합니다.\n",
        "#'data.yaml' 파일의 내용이 파싱되어 data 변수에 저장되고, 그 값을 출력합니다."
      ],
      "metadata": {
        "colab": {
          "base_uri": "https://localhost:8080/"
        },
        "id": "IV4GqN8-uIui",
        "outputId": "b8afc219-0cbe-470c-f805-a369c6eebed0"
      },
      "execution_count": 13,
      "outputs": [
        {
          "output_type": "stream",
          "name": "stdout",
          "text": [
            "{'train': '../train/images', 'val': '../valid/images', 'test': '../test/images', 'nc': 2, 'names': ['NG_L', 'OK_L'], 'roboflow': {'workspace': 'hs-esyhr', 'project': 'logo4-yuhxx', 'version': 4, 'license': 'CC BY 4.0', 'url': 'https://universe.roboflow.com/hs-esyhr/logo4-yuhxx/dataset/4'}}\n"
          ]
        }
      ]
    },
    {
      "cell_type": "code",
      "source": [
        "data['train'] = '/content/dataset/train.txt'\n",
        "data['val'] = '/content/dataset/val.txt'\n",
        "with open('/content/dataset/data.yaml', 'w') as f:\n",
        "  yaml.dump(data, f)\n",
        "print(data)\n",
        "#data 딕셔너리에 'train' 키와 '/content/dataset/train.txt' 값을 추가합니다.\n",
        "#data 딕셔너리에 'val' 키와 '/content/dataset/val.txt' 값을 추가합니다.\n",
        "#'data.yaml' 파일을 쓰기 모드로 엽니다.\n",
        "#yaml.dump() 함수를 사용하여 data 딕셔너리를 YAML 형식으로 직렬화하여 파일에 저장합니다.\n",
        "#data 딕셔너리를 출력합니다.\n",
        "#data 딕셔너리에 'train'과 'val' 키가 추가되고, 'data.yaml' 파일에 해당 내용이 저장됩니다.\n",
        "#마지막으로 data 딕셔너리를 출력합니다."
      ],
      "metadata": {
        "colab": {
          "base_uri": "https://localhost:8080/"
        },
        "id": "2QbprYbzuIi5",
        "outputId": "333b1f83-3625-4871-f92b-8bd711e3b21f"
      },
      "execution_count": 14,
      "outputs": [
        {
          "output_type": "stream",
          "name": "stdout",
          "text": [
            "{'train': '/content/dataset/train.txt', 'val': '/content/dataset/val.txt', 'test': '../test/images', 'nc': 2, 'names': ['NG_L', 'OK_L'], 'roboflow': {'workspace': 'hs-esyhr', 'project': 'logo4-yuhxx', 'version': 4, 'license': 'CC BY 4.0', 'url': 'https://universe.roboflow.com/hs-esyhr/logo4-yuhxx/dataset/4'}}\n"
          ]
        }
      ]
    },
    {
      "cell_type": "code",
      "source": [
        "%cat /content/dataset/data.yaml\n",
        "#%cat은 주피터 노트북에서 사용되는 명령어로, 해당 경로의 파일을 출력하는 명령입니다."
      ],
      "metadata": {
        "colab": {
          "base_uri": "https://localhost:8080/"
        },
        "id": "JBS9oRw1uuW9",
        "outputId": "1c557f63-fdbc-4322-d630-5d67a0a54194"
      },
      "execution_count": 15,
      "outputs": [
        {
          "output_type": "stream",
          "name": "stdout",
          "text": [
            "names:\n",
            "- NG_L\n",
            "- OK_L\n",
            "nc: 2\n",
            "roboflow:\n",
            "  license: CC BY 4.0\n",
            "  project: logo4-yuhxx\n",
            "  url: https://universe.roboflow.com/hs-esyhr/logo4-yuhxx/dataset/4\n",
            "  version: 4\n",
            "  workspace: hs-esyhr\n",
            "test: ../test/images\n",
            "train: /content/dataset/train.txt\n",
            "val: /content/dataset/val.txt\n"
          ]
        }
      ]
    },
    {
      "cell_type": "code",
      "source": [
        "!cat /content/yolov5/models/yolov5s.yaml\n",
        "#!cat은 주피터 노트북에서 사용되는 명령어로, 해당 경로의 파일을 출력하는 명령입니다."
      ],
      "metadata": {
        "colab": {
          "base_uri": "https://localhost:8080/"
        },
        "id": "uh6fesjeuuTI",
        "outputId": "938b4899-38d9-4f35-9485-b7475fb2db46"
      },
      "execution_count": 16,
      "outputs": [
        {
          "output_type": "stream",
          "name": "stdout",
          "text": [
            "# YOLOv5 🚀 by Ultralytics, AGPL-3.0 license\n",
            "\n",
            "# Parameters\n",
            "nc: 80  # number of classes\n",
            "depth_multiple: 0.33  # model depth multiple\n",
            "width_multiple: 0.50  # layer channel multiple\n",
            "anchors:\n",
            "  - [10,13, 16,30, 33,23]  # P3/8\n",
            "  - [30,61, 62,45, 59,119]  # P4/16\n",
            "  - [116,90, 156,198, 373,326]  # P5/32\n",
            "\n",
            "# YOLOv5 v6.0 backbone\n",
            "backbone:\n",
            "  # [from, number, module, args]\n",
            "  [[-1, 1, Conv, [64, 6, 2, 2]],  # 0-P1/2\n",
            "   [-1, 1, Conv, [128, 3, 2]],  # 1-P2/4\n",
            "   [-1, 3, C3, [128]],\n",
            "   [-1, 1, Conv, [256, 3, 2]],  # 3-P3/8\n",
            "   [-1, 6, C3, [256]],\n",
            "   [-1, 1, Conv, [512, 3, 2]],  # 5-P4/16\n",
            "   [-1, 9, C3, [512]],\n",
            "   [-1, 1, Conv, [1024, 3, 2]],  # 7-P5/32\n",
            "   [-1, 3, C3, [1024]],\n",
            "   [-1, 1, SPPF, [1024, 5]],  # 9\n",
            "  ]\n",
            "\n",
            "# YOLOv5 v6.0 head\n",
            "head:\n",
            "  [[-1, 1, Conv, [512, 1, 1]],\n",
            "   [-1, 1, nn.Upsample, [None, 2, 'nearest']],\n",
            "   [[-1, 6], 1, Concat, [1]],  # cat backbone P4\n",
            "   [-1, 3, C3, [512, False]],  # 13\n",
            "\n",
            "   [-1, 1, Conv, [256, 1, 1]],\n",
            "   [-1, 1, nn.Upsample, [None, 2, 'nearest']],\n",
            "   [[-1, 4], 1, Concat, [1]],  # cat backbone P3\n",
            "   [-1, 3, C3, [256, False]],  # 17 (P3/8-small)\n",
            "\n",
            "   [-1, 1, Conv, [256, 3, 2]],\n",
            "   [[-1, 14], 1, Concat, [1]],  # cat head P4\n",
            "   [-1, 3, C3, [512, False]],  # 20 (P4/16-medium)\n",
            "\n",
            "   [-1, 1, Conv, [512, 3, 2]],\n",
            "   [[-1, 10], 1, Concat, [1]],  # cat head P5\n",
            "   [-1, 3, C3, [1024, False]],  # 23 (P5/32-large)\n",
            "\n",
            "   [[17, 20, 23], 1, Detect, [nc, anchors]],  # Detect(P3, P4, P5)\n",
            "  ]\n"
          ]
        }
      ]
    },
    {
      "cell_type": "code",
      "source": [
        "# 10회 반복학습 실시\n",
        "%cd /content/yolov5/\n",
        "!python train.py --img 416 --batch 16 --epochs 10 --data /content/dataset/data.yaml --cfg ./models/yolov5s.yaml --weights yolov5s.pt --name gun_yolov5s_results\n",
        "#YOLOv5를 사용하여 gun_yolov5s_results라는 이름으로 10 에포크 동안 학습을 수행하는 명령입니다.\n",
        "#%cd /content/yolov5/는 현재 작업 디렉토리를 /content/yolov5/로 변경하는 명령입니다.\n",
        "#!python train.py는 YOLOv5의 train.py 스크립트를 실행하여 다음과 같은 옵션으로 학습을 수행하는 명령입니다:\n",
        "#--img 416: 입력 이미지의 크기를 416x416으로 설정합니다.\n",
        "#--batch 16: 배치 크기를 16으로 설정합니다.\n",
        "#--epochs 10: 10 에포크 동안 학습을 수행합니다.\n",
        "#--data /content/dataset/data.yaml: 데이터셋 구성을 정의하는 YAML 파일의 경로를 지정합니다.\n",
        "#--cfg ./models/yolov5s.yaml: 모델 구조를 정의하는 YAML 파일의 경로를 지정합니다.\n",
        "#--weights yolov5s.pt: 사전 학습된 가중치 파일의 경로를 지정합니다.\n",
        "#--name gun_yolov5s_results: 학습 결과를 저장할 디렉토리의 이름을 지정합니다.\n",
        "#YOLOv5 모델이 주어진 데이터셋을 사용하여 학습을 수행하고, gun_yolov5s_results라는 이름의 디렉토리에 학습 결과가 저장됩니다."
      ],
      "metadata": {
        "colab": {
          "base_uri": "https://localhost:8080/"
        },
        "id": "0oCJuEaruuO0",
        "outputId": "dbc1396a-a444-4683-8edb-b6d647bb663a"
      },
      "execution_count": 17,
      "outputs": [
        {
          "output_type": "stream",
          "name": "stdout",
          "text": [
            "/content/yolov5\n",
            "\u001b[34m\u001b[1mtrain: \u001b[0mweights=yolov5s.pt, cfg=./models/yolov5s.yaml, data=/content/dataset/data.yaml, hyp=data/hyps/hyp.scratch-low.yaml, epochs=10, batch_size=16, imgsz=416, rect=False, resume=False, nosave=False, noval=False, noautoanchor=False, noplots=False, evolve=None, bucket=, cache=None, image_weights=False, device=, multi_scale=False, single_cls=False, optimizer=SGD, sync_bn=False, workers=8, project=runs/train, name=gun_yolov5s_results, exist_ok=False, quad=False, cos_lr=False, label_smoothing=0.0, patience=100, freeze=[0], save_period=-1, seed=0, local_rank=-1, entity=None, upload_dataset=False, bbox_interval=-1, artifact_alias=latest\n",
            "\u001b[34m\u001b[1mgithub: \u001b[0mup to date with https://github.com/ultralytics/yolov5 ✅\n",
            "YOLOv5 🚀 v7.0-212-g9974d51 Python-3.10.12 torch-2.0.1+cu118 CUDA:0 (Tesla T4, 15102MiB)\n",
            "\n",
            "\u001b[34m\u001b[1mhyperparameters: \u001b[0mlr0=0.01, lrf=0.01, momentum=0.937, weight_decay=0.0005, warmup_epochs=3.0, warmup_momentum=0.8, warmup_bias_lr=0.1, box=0.05, cls=0.5, cls_pw=1.0, obj=1.0, obj_pw=1.0, iou_t=0.2, anchor_t=4.0, fl_gamma=0.0, hsv_h=0.015, hsv_s=0.7, hsv_v=0.4, degrees=0.0, translate=0.1, scale=0.5, shear=0.0, perspective=0.0, flipud=0.0, fliplr=0.5, mosaic=1.0, mixup=0.0, copy_paste=0.0\n",
            "\u001b[34m\u001b[1mComet: \u001b[0mrun 'pip install comet_ml' to automatically track and visualize YOLOv5 🚀 runs in Comet\n",
            "\u001b[34m\u001b[1mTensorBoard: \u001b[0mStart with 'tensorboard --logdir runs/train', view at http://localhost:6006/\n",
            "Downloading https://ultralytics.com/assets/Arial.ttf to /root/.config/Ultralytics/Arial.ttf...\n",
            "100% 755k/755k [00:00<00:00, 15.3MB/s]\n",
            "Downloading https://github.com/ultralytics/yolov5/releases/download/v7.0/yolov5s.pt to yolov5s.pt...\n",
            "100% 14.1M/14.1M [00:00<00:00, 115MB/s] \n",
            "\n",
            "Overriding model.yaml nc=80 with nc=2\n",
            "\n",
            "                 from  n    params  module                                  arguments                     \n",
            "  0                -1  1      3520  models.common.Conv                      [3, 32, 6, 2, 2]              \n",
            "  1                -1  1     18560  models.common.Conv                      [32, 64, 3, 2]                \n",
            "  2                -1  1     18816  models.common.C3                        [64, 64, 1]                   \n",
            "  3                -1  1     73984  models.common.Conv                      [64, 128, 3, 2]               \n",
            "  4                -1  2    115712  models.common.C3                        [128, 128, 2]                 \n",
            "  5                -1  1    295424  models.common.Conv                      [128, 256, 3, 2]              \n",
            "  6                -1  3    625152  models.common.C3                        [256, 256, 3]                 \n",
            "  7                -1  1   1180672  models.common.Conv                      [256, 512, 3, 2]              \n",
            "  8                -1  1   1182720  models.common.C3                        [512, 512, 1]                 \n",
            "  9                -1  1    656896  models.common.SPPF                      [512, 512, 5]                 \n",
            " 10                -1  1    131584  models.common.Conv                      [512, 256, 1, 1]              \n",
            " 11                -1  1         0  torch.nn.modules.upsampling.Upsample    [None, 2, 'nearest']          \n",
            " 12           [-1, 6]  1         0  models.common.Concat                    [1]                           \n",
            " 13                -1  1    361984  models.common.C3                        [512, 256, 1, False]          \n",
            " 14                -1  1     33024  models.common.Conv                      [256, 128, 1, 1]              \n",
            " 15                -1  1         0  torch.nn.modules.upsampling.Upsample    [None, 2, 'nearest']          \n",
            " 16           [-1, 4]  1         0  models.common.Concat                    [1]                           \n",
            " 17                -1  1     90880  models.common.C3                        [256, 128, 1, False]          \n",
            " 18                -1  1    147712  models.common.Conv                      [128, 128, 3, 2]              \n",
            " 19          [-1, 14]  1         0  models.common.Concat                    [1]                           \n",
            " 20                -1  1    296448  models.common.C3                        [256, 256, 1, False]          \n",
            " 21                -1  1    590336  models.common.Conv                      [256, 256, 3, 2]              \n",
            " 22          [-1, 10]  1         0  models.common.Concat                    [1]                           \n",
            " 23                -1  1   1182720  models.common.C3                        [512, 512, 1, False]          \n",
            " 24      [17, 20, 23]  1     18879  models.yolo.Detect                      [2, [[10, 13, 16, 30, 33, 23], [30, 61, 62, 45, 59, 119], [116, 90, 156, 198, 373, 326]], [128, 256, 512]]\n",
            "YOLOv5s summary: 214 layers, 7025023 parameters, 7025023 gradients, 16.0 GFLOPs\n",
            "\n",
            "Transferred 342/349 items from yolov5s.pt\n",
            "\u001b[34m\u001b[1mAMP: \u001b[0mchecks passed ✅\n",
            "\u001b[34m\u001b[1moptimizer:\u001b[0m SGD(lr=0.01) with parameter groups 57 weight(decay=0.0), 60 weight(decay=0.0005), 60 bias\n",
            "\u001b[34m\u001b[1malbumentations: \u001b[0mBlur(p=0.01, blur_limit=(3, 7)), MedianBlur(p=0.01, blur_limit=(3, 7)), ToGray(p=0.01), CLAHE(p=0.01, clip_limit=(1, 4.0), tile_grid_size=(8, 8))\n",
            "\u001b[34m\u001b[1mtrain: \u001b[0mScanning /content/dataset/train... 210 images, 0 backgrounds, 0 corrupt: 100% 210/210 [00:00<00:00, 1480.44it/s]\n",
            "\u001b[34m\u001b[1mtrain: \u001b[0mNew cache created: /content/dataset/train.cache\n",
            "\u001b[34m\u001b[1mval: \u001b[0mScanning /content/dataset/val... 20 images, 0 backgrounds, 0 corrupt: 100% 20/20 [00:00<00:00, 560.16it/s]\n",
            "\u001b[34m\u001b[1mval: \u001b[0mNew cache created: /content/dataset/val.cache\n",
            "\n",
            "\u001b[34m\u001b[1mAutoAnchor: \u001b[0m4.64 anchors/target, 1.000 Best Possible Recall (BPR). Current anchors are a good fit to dataset ✅\n",
            "Plotting labels to runs/train/gun_yolov5s_results/labels.jpg... \n",
            "Image sizes 416 train, 416 val\n",
            "Using 2 dataloader workers\n",
            "Logging results to \u001b[1mruns/train/gun_yolov5s_results\u001b[0m\n",
            "Starting training for 10 epochs...\n",
            "\n",
            "      Epoch    GPU_mem   box_loss   obj_loss   cls_loss  Instances       Size\n",
            "        0/9      1.53G     0.1144    0.01962    0.03018          8        416: 100% 14/14 [00:11<00:00,  1.23it/s]\n",
            "                 Class     Images  Instances          P          R      mAP50   mAP50-95: 100% 1/1 [00:02<00:00,  2.03s/it]\n",
            "                   all         20         20    0.00318      0.955      0.013    0.00327\n",
            "\n",
            "      Epoch    GPU_mem   box_loss   obj_loss   cls_loss  Instances       Size\n",
            "        1/9      1.53G    0.08925     0.0214    0.02835          2        416: 100% 14/14 [00:06<00:00,  2.21it/s]\n",
            "                 Class     Images  Instances          P          R      mAP50   mAP50-95: 100% 1/1 [00:00<00:00,  1.88it/s]\n",
            "                   all         20         20      0.351       0.32      0.489      0.213\n",
            "\n",
            "      Epoch    GPU_mem   box_loss   obj_loss   cls_loss  Instances       Size\n",
            "        2/9      1.53G    0.07427    0.02336    0.02765          2        416: 100% 14/14 [00:04<00:00,  3.27it/s]\n",
            "                 Class     Images  Instances          P          R      mAP50   mAP50-95: 100% 1/1 [00:00<00:00,  2.13it/s]\n",
            "                   all         20         20      0.476        0.5      0.622      0.364\n",
            "\n",
            "      Epoch    GPU_mem   box_loss   obj_loss   cls_loss  Instances       Size\n",
            "        3/9      1.54G    0.06054    0.02113    0.02592          3        416: 100% 14/14 [00:06<00:00,  2.33it/s]\n",
            "                 Class     Images  Instances          P          R      mAP50   mAP50-95: 100% 1/1 [00:00<00:00,  2.43it/s]\n",
            "                   all         20         20      0.515      0.665      0.645       0.42\n",
            "\n",
            "      Epoch    GPU_mem   box_loss   obj_loss   cls_loss  Instances       Size\n",
            "        4/9      1.54G    0.05414     0.0221    0.02581          4        416: 100% 14/14 [00:04<00:00,  3.08it/s]\n",
            "                 Class     Images  Instances          P          R      mAP50   mAP50-95: 100% 1/1 [00:00<00:00,  2.52it/s]\n",
            "                   all         20         20      0.525      0.788      0.631      0.447\n",
            "\n",
            "      Epoch    GPU_mem   box_loss   obj_loss   cls_loss  Instances       Size\n",
            "        5/9      1.54G    0.05168    0.02053    0.02538          6        416: 100% 14/14 [00:06<00:00,  2.29it/s]\n",
            "                 Class     Images  Instances          P          R      mAP50   mAP50-95: 100% 1/1 [00:00<00:00,  3.06it/s]\n",
            "                   all         20         20      0.573      0.944      0.706      0.389\n",
            "\n",
            "      Epoch    GPU_mem   box_loss   obj_loss   cls_loss  Instances       Size\n",
            "        6/9      1.54G    0.04816    0.01952    0.02567          6        416: 100% 14/14 [00:04<00:00,  2.98it/s]\n",
            "                 Class     Images  Instances          P          R      mAP50   mAP50-95: 100% 1/1 [00:00<00:00,  3.15it/s]\n",
            "                   all         20         20      0.395          1      0.424      0.305\n",
            "\n",
            "      Epoch    GPU_mem   box_loss   obj_loss   cls_loss  Instances       Size\n",
            "        7/9      1.54G    0.04403     0.0188     0.0242          2        416: 100% 14/14 [00:06<00:00,  2.27it/s]\n",
            "                 Class     Images  Instances          P          R      mAP50   mAP50-95: 100% 1/1 [00:00<00:00,  2.65it/s]\n",
            "                   all         20         20      0.592          1      0.737      0.393\n",
            "\n",
            "      Epoch    GPU_mem   box_loss   obj_loss   cls_loss  Instances       Size\n",
            "        8/9      1.54G    0.04213    0.01731      0.025          4        416: 100% 14/14 [00:04<00:00,  2.90it/s]\n",
            "                 Class     Images  Instances          P          R      mAP50   mAP50-95: 100% 1/1 [00:00<00:00,  2.86it/s]\n",
            "                   all         20         20      0.382      0.624      0.626      0.278\n",
            "\n",
            "      Epoch    GPU_mem   box_loss   obj_loss   cls_loss  Instances       Size\n",
            "        9/9      1.54G    0.03593    0.01601    0.02395          2        416: 100% 14/14 [00:06<00:00,  2.16it/s]\n",
            "                 Class     Images  Instances          P          R      mAP50   mAP50-95: 100% 1/1 [00:00<00:00,  3.20it/s]\n",
            "                   all         20         20      0.619      0.843      0.874      0.551\n",
            "\n",
            "10 epochs completed in 0.021 hours.\n",
            "Optimizer stripped from runs/train/gun_yolov5s_results/weights/last.pt, 14.3MB\n",
            "Optimizer stripped from runs/train/gun_yolov5s_results/weights/best.pt, 14.3MB\n",
            "\n",
            "Validating runs/train/gun_yolov5s_results/weights/best.pt...\n",
            "Fusing layers... \n",
            "YOLOv5s summary: 157 layers, 7015519 parameters, 0 gradients, 15.8 GFLOPs\n",
            "                 Class     Images  Instances          P          R      mAP50   mAP50-95: 100% 1/1 [00:00<00:00,  4.91it/s]\n",
            "                   all         20         20       0.62      0.843      0.874      0.551\n",
            "                  NG_L         20          9      0.428      0.778      0.789      0.503\n",
            "                  OK_L         20         11      0.811      0.909      0.959      0.599\n",
            "Results saved to \u001b[1mruns/train/gun_yolov5s_results\u001b[0m\n"
          ]
        }
      ]
    },
    {
      "cell_type": "code",
      "source": [
        "#결과보기 : tensorboard #10회반복\n",
        "%load_ext tensorboard\n",
        "%tensorboard --logdir /content/yolov5/runs/\n",
        "#TensorBoard를 사용하여 /content/yolov5/runs/ 디렉토리에 저장된 로그 파일을 시각화하는 명령입니다.\n",
        "#%load_ext tensorboard는 주피터 노트북에서 TensorBoard를 로드하는 명령입니다.\n",
        "#%tensorboard --logdir /content/yolov5/runs/는 TensorBoard를 실행하여 /content/yolov5/runs/ 디렉토리에 저장된 로그 파일을 시각화합니다.\n",
        "#TensorBoard가 실행되고, 해당 디렉토리에 저장된 로그 파일의 시각화 결과를 볼 수 있습니다."
      ],
      "metadata": {
        "id": "Uxyj3ruYuuKr",
        "colab": {
          "base_uri": "https://localhost:8080/",
          "height": 820
        },
        "outputId": "3f6d3741-5b1a-426a-e9a0-f73113dc0894"
      },
      "execution_count": 18,
      "outputs": [
        {
          "output_type": "display_data",
          "data": {
            "text/plain": [
              "<IPython.core.display.Javascript object>"
            ],
            "application/javascript": [
              "\n",
              "        (async () => {\n",
              "            const url = new URL(await google.colab.kernel.proxyPort(6006, {'cache': true}));\n",
              "            url.searchParams.set('tensorboardColab', 'true');\n",
              "            const iframe = document.createElement('iframe');\n",
              "            iframe.src = url;\n",
              "            iframe.setAttribute('width', '100%');\n",
              "            iframe.setAttribute('height', '800');\n",
              "            iframe.setAttribute('frameborder', 0);\n",
              "            document.body.appendChild(iframe);\n",
              "        })();\n",
              "    "
            ]
          },
          "metadata": {}
        }
      ]
    },
    {
      "cell_type": "code",
      "source": [
        "from IPython.display import Image\n",
        "import os\n",
        "val_img_path = val_img_list[3]\n",
        "val_img_path\n",
        "#주어진 코드는 IPython.display 모듈에서 Image 클래스를 가져와서 사용하고,\n",
        "#os 모듈을 가져온 후 val_img_list에서 3번째 이미지 경로를 val_img_path 변수에 할당하는 코드입니다.\n",
        "#from IPython.display import Image은 IPython 환경에서 이미지를 표시하기 위해 Image 클래스를 가져오는 명령입니다.\n",
        "#import os는 파일 및 디렉토리 관련 작업을 위해 os 모듈을 가져오는 명령입니다.\n",
        "#val_img_path = val_img_list[3]는 val_img_list에서 3번째 이미지 경로를 val_img_path 변수에 할당하는 명령입니다.\n",
        "#위 코드를 실행하면 val_img_list에서 3번째 이미지의 경로가 val_img_path 변수에 저장됩니다."
      ],
      "metadata": {
        "id": "rmVIflXcu4DC",
        "colab": {
          "base_uri": "https://localhost:8080/",
          "height": 35
        },
        "outputId": "aa757102-21a6-4ec1-97b0-27e23ebb875d"
      },
      "execution_count": 19,
      "outputs": [
        {
          "output_type": "execute_result",
          "data": {
            "text/plain": [
              "'/content/dataset/valid/images/OK_37_png.rf.4edcbf51c9f71973bd0708e867da4e9a.jpg'"
            ],
            "application/vnd.google.colaboratory.intrinsic+json": {
              "type": "string"
            }
          },
          "metadata": {},
          "execution_count": 19
        }
      ]
    },
    {
      "cell_type": "code",
      "source": [
        "!python detect.py --weights /content/yolov5/runs/train/gun_yolov5s_results/weights/best.pt --img 416 --conf 0.2 --save-txt --save-crop --save-conf --source /content/dataset/valid/images\n",
        "#주어진 명령어는 detect.py 스크립트를 실행하여 이미지에서 물체를 감지하는 명령입니다.\n",
        "#!python detect.py는 detect.py 스크립트를 파이썬으로 실행하는 명령입니다.\n",
        "#--weights /content/yolov5/runs/train/gun_yolov5s_results/weights/best.pt는 사용할 가중치 파일의 경로를 지정하는 옵션입니다.\n",
        "#--img 416는 입력 이미지의 크기를 416x416으로 설정하는 옵션입니다.\n",
        "#--conf 0.6은 감지된 물체의 신뢰도 임계값을 0.6으로 설정하는 옵션입니다.\n",
        "#--save-txt는 감지된 물체의 좌표를 텍스트 파일로 저장하는 옵션입니다.\n",
        "#--save-crop는 감지된 물체를 잘라내어 이미지 파일로 저장하는 옵션입니다.\n",
        "#--save-conf는 감지된 물체의 신뢰도를 이미지 파일에 표시하는 옵션입니다.\n",
        "#--source /content/dataset/valid/images는 입력 이미지의 경로를 지정하는 옵션입니다.\n",
        "#위 명령을 실행하면 detect.py 스크립트가 실행되고, 지정된 가중치 파일과 입력 이미지를 사용하여 물체를 감지합니다.\n",
        "#감지된 물체의 좌표는 텍스트 파일로 저장되고, 잘라낸 이미지와 신뢰도가 표시된 이미지도 저장됩니다.\n",
        "#입력 이미지는 /content/dataset/valid/images 디렉토리에서 가져옵니다."
      ],
      "metadata": {
        "id": "l_C8drpFu3_c",
        "colab": {
          "base_uri": "https://localhost:8080/"
        },
        "outputId": "07ea306b-4a66-4f98-afb4-070426215047"
      },
      "execution_count": 20,
      "outputs": [
        {
          "output_type": "stream",
          "name": "stdout",
          "text": [
            "\u001b[34m\u001b[1mdetect: \u001b[0mweights=['/content/yolov5/runs/train/gun_yolov5s_results/weights/best.pt'], source=/content/dataset/valid/images, data=data/coco128.yaml, imgsz=[416, 416], conf_thres=0.2, iou_thres=0.45, max_det=1000, device=, view_img=False, save_txt=True, save_conf=True, save_crop=True, nosave=False, classes=None, agnostic_nms=False, augment=False, visualize=False, update=False, project=runs/detect, name=exp, exist_ok=False, line_thickness=3, hide_labels=False, hide_conf=False, half=False, dnn=False, vid_stride=1\n",
            "YOLOv5 🚀 v7.0-212-g9974d51 Python-3.10.12 torch-2.0.1+cu118 CUDA:0 (Tesla T4, 15102MiB)\n",
            "\n",
            "Fusing layers... \n",
            "YOLOv5s summary: 157 layers, 7015519 parameters, 0 gradients, 15.8 GFLOPs\n",
            "image 1/20 /content/dataset/valid/images/NG_11_png.rf.9c6f48d05be5dc1e48a262c08530125e.jpg: 416x416 1 NG_L, 7.4ms\n",
            "image 2/20 /content/dataset/valid/images/NG_16_png.rf.7fa8dc2b905b2c73d5d9c3bba0223f8a.jpg: 416x416 2 NG_Ls, 7.4ms\n",
            "image 3/20 /content/dataset/valid/images/NG_18_png.rf.6a2861909f0206c2a5ee504d7fdc0a9f.jpg: 416x416 2 NG_Ls, 7.4ms\n",
            "image 4/20 /content/dataset/valid/images/NG_29_png.rf.f75c415f97bbc8ed7d3902e557f315d0.jpg: 416x416 2 NG_Ls, 1 OK_L, 7.4ms\n",
            "image 5/20 /content/dataset/valid/images/NG_31_png.rf.dd1a88fa9ba5b6c10a312c6f9cd23b9a.jpg: 416x416 1 NG_L, 7.4ms\n",
            "image 6/20 /content/dataset/valid/images/NG_33_png.rf.21be205081963569ce38cd1590a00f0e.jpg: 416x416 1 NG_L, 1 OK_L, 7.4ms\n",
            "image 7/20 /content/dataset/valid/images/NG_43_png.rf.e2d8e50253a96a11a4200386a58c1e32.jpg: 416x416 2 NG_Ls, 1 OK_L, 7.4ms\n",
            "image 8/20 /content/dataset/valid/images/NG_46_png.rf.cbcfd0f45092b754cdab54c6c6fd3f4b.jpg: 416x416 1 NG_L, 7.5ms\n",
            "image 9/20 /content/dataset/valid/images/NG_47_png.rf.b5ff2c420e6cc49168c9e4bc0a131354.jpg: 416x416 1 NG_L, 1 OK_L, 7.4ms\n",
            "image 10/20 /content/dataset/valid/images/OK_11_png.rf.c06d70475ce8ea9bbfa5513b1f140669.jpg: 416x416 2 NG_Ls, 2 OK_Ls, 7.4ms\n",
            "image 11/20 /content/dataset/valid/images/OK_16_png.rf.cae9aa59f5a696bc307713f5cfa9cf4c.jpg: 416x416 1 NG_L, 1 OK_L, 7.4ms\n",
            "image 12/20 /content/dataset/valid/images/OK_24_png.rf.bed178af89aceea69024e1cc89399f2e.jpg: 416x416 1 NG_L, 1 OK_L, 7.4ms\n",
            "image 13/20 /content/dataset/valid/images/OK_2_png.rf.98b97daee39f054102ffea4b5f3014e4.jpg: 416x416 1 NG_L, 1 OK_L, 7.4ms\n",
            "image 14/20 /content/dataset/valid/images/OK_33_png.rf.4737390f621df0ccf9d0e1c3a9aa7d01.jpg: 416x416 1 NG_L, 1 OK_L, 7.4ms\n",
            "image 15/20 /content/dataset/valid/images/OK_35_png.rf.38912dfda1b4cd86ebf44d4d3d51dc02.jpg: 416x416 1 NG_L, 1 OK_L, 9.2ms\n",
            "image 16/20 /content/dataset/valid/images/OK_37_png.rf.4edcbf51c9f71973bd0708e867da4e9a.jpg: 416x416 1 NG_L, 2 OK_Ls, 7.4ms\n",
            "image 17/20 /content/dataset/valid/images/OK_40_png.rf.c81d7f656680d61b4297c6346d44f850.jpg: 416x416 1 NG_L, 1 OK_L, 7.4ms\n",
            "image 18/20 /content/dataset/valid/images/OK_48_png.rf.a1412f23893d17a42727bfff41abf351.jpg: 416x416 1 NG_L, 1 OK_L, 7.4ms\n",
            "image 19/20 /content/dataset/valid/images/OK_49_png.rf.e7dc2875071ae1da9d367503ed3c02fc.jpg: 416x416 1 NG_L, 2 OK_Ls, 7.4ms\n",
            "image 20/20 /content/dataset/valid/images/OK_50_png.rf.6b0c97d52ba2fd2828b1d930db46abfa.jpg: 416x416 1 NG_L, 1 OK_L, 7.4ms\n",
            "Speed: 0.3ms pre-process, 7.5ms inference, 1.0ms NMS per image at shape (1, 3, 416, 416)\n",
            "Results saved to \u001b[1mruns/detect/exp\u001b[0m\n",
            "20 labels saved to runs/detect/exp/labels\n"
          ]
        }
      ]
    },
    {
      "cell_type": "code",
      "source": [
        "!python detect.py --weights /content/drive/MyDrive/1backup/best.pt --img 416 --conf 0.2 --save-txt --save-crop --save-conf --source val_img_list[29]\n",
        "#주어진 명령어는 detect.py 스크립트를 실행하여 이미지에서 물체를 감지하는 명령입니다.\n",
        "#!python detect.py는 detect.py 스크립트를 파이썬으로 실행하는 명령입니다.\n",
        "#--weights /content/drive/MyDrive/1backup/best.pt는 사용할 가중치 파일의 경로를 지정하는 옵션입니다.\n",
        "#--img 416는 입력 이미지의 크기를 416x416으로 설정하는 옵션입니다.\n",
        "#--conf 0.6은 감지된 물체의 신뢰도 임계값을 0.6으로 설정하는 옵션입니다.\n",
        "#--save-txt는 감지된 물체의 좌표를 텍스트 파일로 저장하는 옵션입니다.\n",
        "#--save-crop는 감지된 물체를 잘라내어 이미지 파일로 저장하는 옵션입니다.\n",
        "#--save-conf는 감지된 물체의 신뢰도를 이미지 파일에 표시하는 옵션입니다.\n",
        "#--source val_img_list[29]는 입력 이미지의 경로를 val_img_list의 29번째 이미지로 지정하는 옵션입니다.\n",
        "#위 명령을 실행하면 detect.py 스크립트가 실행되고, 지정된 가중치 파일과 입력 이미지를 사용하여 물체를 감지합니다.\n",
        "#감지된 물체의 좌표는 텍스트 파일로 저장되고, 잘라낸 이미지와 신뢰도가 표시된 이미지도 저장됩니다.\n",
        "#입력 이미지는 val_img_list의 29번째 이미지로 지정됩니다."
      ],
      "metadata": {
        "id": "26Gfb-qzu34-",
        "colab": {
          "base_uri": "https://localhost:8080/"
        },
        "outputId": "8e60ac18-99fc-4efc-8be0-9e4602e7f7d4"
      },
      "execution_count": 21,
      "outputs": [
        {
          "output_type": "stream",
          "name": "stdout",
          "text": [
            "\u001b[34m\u001b[1mdetect: \u001b[0mweights=['/content/drive/MyDrive/1backup/best.pt'], source=val_img_list[29], data=data/coco128.yaml, imgsz=[416, 416], conf_thres=0.2, iou_thres=0.45, max_det=1000, device=, view_img=False, save_txt=True, save_conf=True, save_crop=True, nosave=False, classes=None, agnostic_nms=False, augment=False, visualize=False, update=False, project=runs/detect, name=exp, exist_ok=False, line_thickness=3, hide_labels=False, hide_conf=False, half=False, dnn=False, vid_stride=1\n",
            "YOLOv5 🚀 v7.0-212-g9974d51 Python-3.10.12 torch-2.0.1+cu118 CUDA:0 (Tesla T4, 15102MiB)\n",
            "\n",
            "Traceback (most recent call last):\n",
            "  File \"/content/yolov5/detect.py\", line 262, in <module>\n",
            "    main(opt)\n",
            "  File \"/content/yolov5/detect.py\", line 257, in main\n",
            "    run(**vars(opt))\n",
            "  File \"/usr/local/lib/python3.10/dist-packages/torch/utils/_contextlib.py\", line 115, in decorate_context\n",
            "    return func(*args, **kwargs)\n",
            "  File \"/content/yolov5/detect.py\", line 99, in run\n",
            "    model = DetectMultiBackend(weights, device=device, dnn=dnn, data=data, fp16=half)\n",
            "  File \"/content/yolov5/models/common.py\", line 356, in __init__\n",
            "    model = attempt_load(weights if isinstance(weights, list) else w, device=device, inplace=True, fuse=fuse)\n",
            "  File \"/content/yolov5/models/experimental.py\", line 79, in attempt_load\n",
            "    ckpt = torch.load(attempt_download(w), map_location='cpu')  # load\n",
            "  File \"/usr/local/lib/python3.10/dist-packages/torch/serialization.py\", line 791, in load\n",
            "    with _open_file_like(f, 'rb') as opened_file:\n",
            "  File \"/usr/local/lib/python3.10/dist-packages/torch/serialization.py\", line 271, in _open_file_like\n",
            "    return _open_file(name_or_buffer, mode)\n",
            "  File \"/usr/local/lib/python3.10/dist-packages/torch/serialization.py\", line 252, in __init__\n",
            "    super().__init__(open(name, mode))\n",
            "FileNotFoundError: [Errno 2] No such file or directory: '/content/drive/MyDrive/1backup/best.pt'\n"
          ]
        }
      ]
    },
    {
      "cell_type": "code",
      "source": [
        "val_img_list[4]\n",
        "#val_img_list[4]는 변수나 리스트의 인덱스를 나타내는 표현입니다.\n",
        "#따라서 val_img_list라는 리스트에서 4번째 요소를 의미합니다."
      ],
      "metadata": {
        "id": "tJNu6DmJu316",
        "colab": {
          "base_uri": "https://localhost:8080/",
          "height": 35
        },
        "outputId": "2b31c76f-df87-47cf-8989-a07ef24ab5b8"
      },
      "execution_count": 22,
      "outputs": [
        {
          "output_type": "execute_result",
          "data": {
            "text/plain": [
              "'/content/dataset/valid/images/NG_16_png.rf.7fa8dc2b905b2c73d5d9c3bba0223f8a.jpg'"
            ],
            "application/vnd.google.colaboratory.intrinsic+json": {
              "type": "string"
            }
          },
          "metadata": {},
          "execution_count": 22
        }
      ]
    },
    {
      "cell_type": "code",
      "source": [
        "val_img_path = val_img_list[4]\n",
        "img_file = os.path.join('/content/dataset/valid/images/', os.path.basename(val_img_path))\n",
        "Image(img_file)\n",
        "#val_img_list[4]는 val_img_list 리스트에서 4번째 요소를 의미합니다. 이 요소는 val_img_path 변수에 저장됩니다.\n",
        "#그 다음, img_file 변수는 val_img_path를 기반으로 생성됩니다.\n",
        "#os.path.basename(val_img_path)는 val_img_path의 파일 이름 부분을 추출하는 것을 의미합니다.\n",
        "#그리고 '/content/dataset/valid/images/'와 결합하여 이미지 파일의 전체 경로를 생성합니다.\n",
        "#마지막으로, Image(img_file)는 img_file 경로에 있는 이미지를 로드하여 보여줍니다."
      ],
      "metadata": {
        "id": "hxm8Y7Jlu3yS",
        "colab": {
          "base_uri": "https://localhost:8080/",
          "height": 657
        },
        "outputId": "a2a3f64b-73e9-4a79-ceda-61206416b8b0"
      },
      "execution_count": 23,
      "outputs": [
        {
          "output_type": "execute_result",
          "data": {
            "image/jpeg": "[encoded data removed]",
            "text/plain": [
              "<IPython.core.display.Image object>"
            ]
          },
          "metadata": {},
          "execution_count": 23
        }
      ]
    },
    {
      "cell_type": "code",
      "source": [
        "img_file\n",
        "#이미지 파일의 전체 경로를 나타냅니다"
      ],
      "metadata": {
        "id": "PPwYEpACu3vF",
        "colab": {
          "base_uri": "https://localhost:8080/",
          "height": 35
        },
        "outputId": "bcd8ca21-cd65-4658-d5bb-b309c6a341ca"
      },
      "execution_count": 24,
      "outputs": [
        {
          "output_type": "execute_result",
          "data": {
            "text/plain": [
              "'/content/dataset/valid/images/NG_16_png.rf.7fa8dc2b905b2c73d5d9c3bba0223f8a.jpg'"
            ],
            "application/vnd.google.colaboratory.intrinsic+json": {
              "type": "string"
            }
          },
          "metadata": {},
          "execution_count": 24
        }
      ]
    },
    {
      "cell_type": "code",
      "source": [
        "!python detect.py --weights /content/drive/MyDrive/1backup/best.pt --img 416 --conf 0.2 --save-txt --save-crop --save-conf --source {img_file}\n",
        "#detect.py 스크립트를 실행하여 객체 감지를 수행하는 명령어입니다.\n",
        "#--weights: 객체 감지에 사용할 모델의 가중치 파일 경로를 지정합니다.\n",
        "#--img: 입력 이미지의 크기를 지정합니다.\n",
        "#--conf: 객체를 감지하기 위한 최소 신뢰도(confidence) 임계값을 지정합니다.\n",
        "#--save-txt: 객체 감지 결과를 텍스트 파일로 저장할지 여부를 지정합니다.\n",
        "#--save-crop: 객체 감지된 영역을 잘라내어 저장할지 여부를 지정합니다.\n",
        "#--save-conf: 객체 감지 결과의 신뢰도를 저장할지 여부를 지정합니다.\n",
        "#--source: 객체 감지를 수행할 이미지 파일의 경로를 지정합니다.\n",
        "#{img_file} 변수를 사용하여 동적으로 이미지 파일 경로를 지정하고 있습니다.\n",
        "#img_file 변수에는 객체 감지를 수행할 이미지 파일의 전체 경로가 들어가야 합니다."
      ],
      "metadata": {
        "id": "ozdN1CjOvcny",
        "colab": {
          "base_uri": "https://localhost:8080/"
        },
        "outputId": "abe1b958-eb10-436c-9626-f51f0f0fcd62"
      },
      "execution_count": 25,
      "outputs": [
        {
          "output_type": "stream",
          "name": "stdout",
          "text": [
            "\u001b[34m\u001b[1mdetect: \u001b[0mweights=['/content/drive/MyDrive/1backup/best.pt'], source=/content/dataset/valid/images/NG_16_png.rf.7fa8dc2b905b2c73d5d9c3bba0223f8a.jpg, data=data/coco128.yaml, imgsz=[416, 416], conf_thres=0.2, iou_thres=0.45, max_det=1000, device=, view_img=False, save_txt=True, save_conf=True, save_crop=True, nosave=False, classes=None, agnostic_nms=False, augment=False, visualize=False, update=False, project=runs/detect, name=exp, exist_ok=False, line_thickness=3, hide_labels=False, hide_conf=False, half=False, dnn=False, vid_stride=1\n",
            "YOLOv5 🚀 v7.0-212-g9974d51 Python-3.10.12 torch-2.0.1+cu118 CUDA:0 (Tesla T4, 15102MiB)\n",
            "\n",
            "Traceback (most recent call last):\n",
            "  File \"/content/yolov5/detect.py\", line 262, in <module>\n",
            "    main(opt)\n",
            "  File \"/content/yolov5/detect.py\", line 257, in main\n",
            "    run(**vars(opt))\n",
            "  File \"/usr/local/lib/python3.10/dist-packages/torch/utils/_contextlib.py\", line 115, in decorate_context\n",
            "    return func(*args, **kwargs)\n",
            "  File \"/content/yolov5/detect.py\", line 99, in run\n",
            "    model = DetectMultiBackend(weights, device=device, dnn=dnn, data=data, fp16=half)\n",
            "  File \"/content/yolov5/models/common.py\", line 356, in __init__\n",
            "    model = attempt_load(weights if isinstance(weights, list) else w, device=device, inplace=True, fuse=fuse)\n",
            "  File \"/content/yolov5/models/experimental.py\", line 79, in attempt_load\n",
            "    ckpt = torch.load(attempt_download(w), map_location='cpu')  # load\n",
            "  File \"/usr/local/lib/python3.10/dist-packages/torch/serialization.py\", line 791, in load\n",
            "    with _open_file_like(f, 'rb') as opened_file:\n",
            "  File \"/usr/local/lib/python3.10/dist-packages/torch/serialization.py\", line 271, in _open_file_like\n",
            "    return _open_file(name_or_buffer, mode)\n",
            "  File \"/usr/local/lib/python3.10/dist-packages/torch/serialization.py\", line 252, in __init__\n",
            "    super().__init__(open(name, mode))\n",
            "FileNotFoundError: [Errno 2] No such file or directory: '/content/drive/MyDrive/1backup/best.pt'\n"
          ]
        }
      ]
    },
    {
      "cell_type": "code",
      "source": [
        "output = '/content/dataset/valid/images/OK_11_png.rf.c06d70475ce8ea9bbfa5513b1f140669.jpg'\n",
        "Image(output)\n",
        "#주어진 코드는 output 변수에 저장된 이미지 파일을 로드하여 출력하는 것입니다.\n",
        "#Image 클래스는 이미지 파일을 로드하고 표시하는 데 사용됩니다.\n",
        "#output 변수에 저장된 이미지 파일이 로드되어 출력됩니다."
      ],
      "metadata": {
        "id": "04qhCZ5Gvck4",
        "colab": {
          "base_uri": "https://localhost:8080/",
          "height": 657
        },
        "outputId": "c0bbb261-9fe5-410f-e1e6-0b66be6b04fd"
      },
      "execution_count": 37,
      "outputs": [
        {
          "output_type": "execute_result",
          "data": {
            "image/jpeg": "[encoded data removed]",
            "text/plain": [
              "<IPython.core.display.Image object>"
            ]
          },
          "metadata": {},
          "execution_count": 37
        }
      ]
    },
    {
      "cell_type": "code",
      "source": [
        "%cd /content/yolov5/\n",
        "!python train.py --img 416 --batch 16 --epochs 50 --data /content/dataset/data.yaml --cfg ./models/yolov5s.yaml --weights yolov5s.pt --name gun_yolov5s_results\n",
        "#주어진 코드는 yolov5 디렉토리로 이동한 후, train.py 스크립트를 실행하여 객체 감지 모델을 학습하는 명령어입니다.\n",
        "#--img: 입력 이미지의 크기를 지정합니다.\n",
        "#--batch: 학습에 사용할 배치 크기를 지정합니다.\n",
        "#--epochs: 학습할 에폭(epoch) 수를 지정합니다.\n",
        "#--data: 데이터셋에 대한 YAML 파일의 경로를 지정합니다.\n",
        "#--cfg: 모델 구성 파일의 경로를 지정합니다.\n",
        "#--weights: 사전 학습된 모델의 가중치 파일 경로를 지정합니다.\n",
        "#--name: 학습 결과를 저장할 디렉토리 이름을 지정합니다.\n",
        "#yolov5 디렉토리로 이동한 후, 주어진 옵션과 함께 train.py 스크립트를 실행하여 객체 감지 모델을 학습할 수 있습니다."
      ],
      "metadata": {
        "id": "koCWFo0dvcfE",
        "colab": {
          "base_uri": "https://localhost:8080/"
        },
        "outputId": "2ad0d73e-0b4c-4b63-dc4c-56d39a3678f3"
      },
      "execution_count": 27,
      "outputs": [
        {
          "output_type": "stream",
          "name": "stdout",
          "text": [
            "/content/yolov5\n",
            "\u001b[34m\u001b[1mtrain: \u001b[0mweights=yolov5s.pt, cfg=./models/yolov5s.yaml, data=/content/dataset/data.yaml, hyp=data/hyps/hyp.scratch-low.yaml, epochs=50, batch_size=16, imgsz=416, rect=False, resume=False, nosave=False, noval=False, noautoanchor=False, noplots=False, evolve=None, bucket=, cache=None, image_weights=False, device=, multi_scale=False, single_cls=False, optimizer=SGD, sync_bn=False, workers=8, project=runs/train, name=gun_yolov5s_results, exist_ok=False, quad=False, cos_lr=False, label_smoothing=0.0, patience=100, freeze=[0], save_period=-1, seed=0, local_rank=-1, entity=None, upload_dataset=False, bbox_interval=-1, artifact_alias=latest\n",
            "\u001b[34m\u001b[1mgithub: \u001b[0mup to date with https://github.com/ultralytics/yolov5 ✅\n",
            "YOLOv5 🚀 v7.0-212-g9974d51 Python-3.10.12 torch-2.0.1+cu118 CUDA:0 (Tesla T4, 15102MiB)\n",
            "\n",
            "\u001b[34m\u001b[1mhyperparameters: \u001b[0mlr0=0.01, lrf=0.01, momentum=0.937, weight_decay=0.0005, warmup_epochs=3.0, warmup_momentum=0.8, warmup_bias_lr=0.1, box=0.05, cls=0.5, cls_pw=1.0, obj=1.0, obj_pw=1.0, iou_t=0.2, anchor_t=4.0, fl_gamma=0.0, hsv_h=0.015, hsv_s=0.7, hsv_v=0.4, degrees=0.0, translate=0.1, scale=0.5, shear=0.0, perspective=0.0, flipud=0.0, fliplr=0.5, mosaic=1.0, mixup=0.0, copy_paste=0.0\n",
            "\u001b[34m\u001b[1mComet: \u001b[0mrun 'pip install comet_ml' to automatically track and visualize YOLOv5 🚀 runs in Comet\n",
            "\u001b[34m\u001b[1mTensorBoard: \u001b[0mStart with 'tensorboard --logdir runs/train', view at http://localhost:6006/\n",
            "Overriding model.yaml nc=80 with nc=2\n",
            "\n",
            "                 from  n    params  module                                  arguments                     \n",
            "  0                -1  1      3520  models.common.Conv                      [3, 32, 6, 2, 2]              \n",
            "  1                -1  1     18560  models.common.Conv                      [32, 64, 3, 2]                \n",
            "  2                -1  1     18816  models.common.C3                        [64, 64, 1]                   \n",
            "  3                -1  1     73984  models.common.Conv                      [64, 128, 3, 2]               \n",
            "  4                -1  2    115712  models.common.C3                        [128, 128, 2]                 \n",
            "  5                -1  1    295424  models.common.Conv                      [128, 256, 3, 2]              \n",
            "  6                -1  3    625152  models.common.C3                        [256, 256, 3]                 \n",
            "  7                -1  1   1180672  models.common.Conv                      [256, 512, 3, 2]              \n",
            "  8                -1  1   1182720  models.common.C3                        [512, 512, 1]                 \n",
            "  9                -1  1    656896  models.common.SPPF                      [512, 512, 5]                 \n",
            " 10                -1  1    131584  models.common.Conv                      [512, 256, 1, 1]              \n",
            " 11                -1  1         0  torch.nn.modules.upsampling.Upsample    [None, 2, 'nearest']          \n",
            " 12           [-1, 6]  1         0  models.common.Concat                    [1]                           \n",
            " 13                -1  1    361984  models.common.C3                        [512, 256, 1, False]          \n",
            " 14                -1  1     33024  models.common.Conv                      [256, 128, 1, 1]              \n",
            " 15                -1  1         0  torch.nn.modules.upsampling.Upsample    [None, 2, 'nearest']          \n",
            " 16           [-1, 4]  1         0  models.common.Concat                    [1]                           \n",
            " 17                -1  1     90880  models.common.C3                        [256, 128, 1, False]          \n",
            " 18                -1  1    147712  models.common.Conv                      [128, 128, 3, 2]              \n",
            " 19          [-1, 14]  1         0  models.common.Concat                    [1]                           \n",
            " 20                -1  1    296448  models.common.C3                        [256, 256, 1, False]          \n",
            " 21                -1  1    590336  models.common.Conv                      [256, 256, 3, 2]              \n",
            " 22          [-1, 10]  1         0  models.common.Concat                    [1]                           \n",
            " 23                -1  1   1182720  models.common.C3                        [512, 512, 1, False]          \n",
            " 24      [17, 20, 23]  1     18879  models.yolo.Detect                      [2, [[10, 13, 16, 30, 33, 23], [30, 61, 62, 45, 59, 119], [116, 90, 156, 198, 373, 326]], [128, 256, 512]]\n",
            "YOLOv5s summary: 214 layers, 7025023 parameters, 7025023 gradients, 16.0 GFLOPs\n",
            "\n",
            "Transferred 342/349 items from yolov5s.pt\n",
            "\u001b[34m\u001b[1mAMP: \u001b[0mchecks passed ✅\n",
            "\u001b[34m\u001b[1moptimizer:\u001b[0m SGD(lr=0.01) with parameter groups 57 weight(decay=0.0), 60 weight(decay=0.0005), 60 bias\n",
            "\u001b[34m\u001b[1malbumentations: \u001b[0mBlur(p=0.01, blur_limit=(3, 7)), MedianBlur(p=0.01, blur_limit=(3, 7)), ToGray(p=0.01), CLAHE(p=0.01, clip_limit=(1, 4.0), tile_grid_size=(8, 8))\n",
            "\u001b[34m\u001b[1mtrain: \u001b[0mScanning /content/dataset/train.cache... 210 images, 0 backgrounds, 0 corrupt: 100% 210/210 [00:00<?, ?it/s]\n",
            "\u001b[34m\u001b[1mval: \u001b[0mScanning /content/dataset/val.cache... 20 images, 0 backgrounds, 0 corrupt: 100% 20/20 [00:00<?, ?it/s]\n",
            "\n",
            "\u001b[34m\u001b[1mAutoAnchor: \u001b[0m4.64 anchors/target, 1.000 Best Possible Recall (BPR). Current anchors are a good fit to dataset ✅\n",
            "Plotting labels to runs/train/gun_yolov5s_results2/labels.jpg... \n",
            "Image sizes 416 train, 416 val\n",
            "Using 2 dataloader workers\n",
            "Logging results to \u001b[1mruns/train/gun_yolov5s_results2\u001b[0m\n",
            "Starting training for 50 epochs...\n",
            "\n",
            "      Epoch    GPU_mem   box_loss   obj_loss   cls_loss  Instances       Size\n",
            "       0/49      1.53G     0.1144    0.01962    0.03018          8        416: 100% 14/14 [00:09<00:00,  1.50it/s]\n",
            "                 Class     Images  Instances          P          R      mAP50   mAP50-95: 100% 1/1 [00:00<00:00,  1.08it/s]\n",
            "                   all         20         20    0.00318      0.955      0.013    0.00327\n",
            "\n",
            "      Epoch    GPU_mem   box_loss   obj_loss   cls_loss  Instances       Size\n",
            "       1/49      1.53G    0.08874    0.02147    0.02831          2        416: 100% 14/14 [00:05<00:00,  2.67it/s]\n",
            "                 Class     Images  Instances          P          R      mAP50   mAP50-95: 100% 1/1 [00:00<00:00,  1.23it/s]\n",
            "                   all         20         20      0.337      0.276      0.373     0.0986\n",
            "\n",
            "      Epoch    GPU_mem   box_loss   obj_loss   cls_loss  Instances       Size\n",
            "       2/49      1.53G    0.07136    0.02336    0.02792          2        416: 100% 14/14 [00:04<00:00,  3.08it/s]\n",
            "                 Class     Images  Instances          P          R      mAP50   mAP50-95: 100% 1/1 [00:00<00:00,  2.16it/s]\n",
            "                   all         20         20        0.5      0.556        0.6      0.396\n",
            "\n",
            "      Epoch    GPU_mem   box_loss   obj_loss   cls_loss  Instances       Size\n",
            "       3/49      1.54G     0.0584    0.02086    0.02646          3        416: 100% 14/14 [00:06<00:00,  2.24it/s]\n",
            "                 Class     Images  Instances          P          R      mAP50   mAP50-95: 100% 1/1 [00:00<00:00,  1.12it/s]\n",
            "                   all         20         20       0.48      0.722      0.599      0.335\n",
            "\n",
            "      Epoch    GPU_mem   box_loss   obj_loss   cls_loss  Instances       Size\n",
            "       4/49      1.54G    0.05558    0.02104    0.02601          4        416: 100% 14/14 [00:04<00:00,  2.81it/s]\n",
            "                 Class     Images  Instances          P          R      mAP50   mAP50-95: 100% 1/1 [00:00<00:00,  2.58it/s]\n",
            "                   all         20         20      0.407      0.833      0.508      0.325\n",
            "\n",
            "      Epoch    GPU_mem   box_loss   obj_loss   cls_loss  Instances       Size\n",
            "       5/49      1.54G    0.05589      0.019    0.02568          6        416: 100% 14/14 [00:05<00:00,  2.37it/s]\n",
            "                 Class     Images  Instances          P          R      mAP50   mAP50-95: 100% 1/1 [00:00<00:00,  1.75it/s]\n",
            "                   all         20         20      0.422      0.651      0.542      0.323\n",
            "\n",
            "      Epoch    GPU_mem   box_loss   obj_loss   cls_loss  Instances       Size\n",
            "       6/49      1.54G    0.05341    0.01871    0.02573          6        416: 100% 14/14 [00:05<00:00,  2.74it/s]\n",
            "                 Class     Images  Instances          P          R      mAP50   mAP50-95: 100% 1/1 [00:00<00:00,  2.44it/s]\n",
            "                   all         20         20        0.3      0.889      0.508      0.257\n",
            "\n",
            "      Epoch    GPU_mem   box_loss   obj_loss   cls_loss  Instances       Size\n",
            "       7/49      1.54G    0.05117    0.01821    0.02439          2        416: 100% 14/14 [00:06<00:00,  2.25it/s]\n",
            "                 Class     Images  Instances          P          R      mAP50   mAP50-95: 100% 1/1 [00:00<00:00,  1.69it/s]\n",
            "                   all         20         20      0.484      0.986       0.71       0.29\n",
            "\n",
            "      Epoch    GPU_mem   box_loss   obj_loss   cls_loss  Instances       Size\n",
            "       8/49      1.54G    0.04616    0.01735    0.02492          4        416: 100% 14/14 [00:04<00:00,  2.88it/s]\n",
            "                 Class     Images  Instances          P          R      mAP50   mAP50-95: 100% 1/1 [00:00<00:00,  2.96it/s]\n",
            "                   all         20         20       0.33      0.797      0.575      0.222\n",
            "\n",
            "      Epoch    GPU_mem   box_loss   obj_loss   cls_loss  Instances       Size\n",
            "       9/49      1.54G    0.03936    0.01593    0.02376          2        416: 100% 14/14 [00:06<00:00,  2.32it/s]\n",
            "                 Class     Images  Instances          P          R      mAP50   mAP50-95: 100% 1/1 [00:00<00:00,  2.08it/s]\n",
            "                   all         20         20      0.244          1      0.338      0.189\n",
            "\n",
            "      Epoch    GPU_mem   box_loss   obj_loss   cls_loss  Instances       Size\n",
            "      10/49      1.54G    0.04163    0.01493    0.02348          2        416: 100% 14/14 [00:04<00:00,  2.81it/s]\n",
            "                 Class     Images  Instances          P          R      mAP50   mAP50-95: 100% 1/1 [00:00<00:00,  3.14it/s]\n",
            "                   all         20         20      0.309      0.722      0.621      0.219\n",
            "\n",
            "      Epoch    GPU_mem   box_loss   obj_loss   cls_loss  Instances       Size\n",
            "      11/49      1.54G    0.04074    0.01438    0.02284          6        416: 100% 14/14 [00:05<00:00,  2.45it/s]\n",
            "                 Class     Images  Instances          P          R      mAP50   mAP50-95: 100% 1/1 [00:00<00:00,  1.71it/s]\n",
            "                   all         20         20      0.402      0.944      0.728      0.347\n",
            "\n",
            "      Epoch    GPU_mem   box_loss   obj_loss   cls_loss  Instances       Size\n",
            "      12/49      1.54G    0.03769    0.01365    0.02147          3        416: 100% 14/14 [00:04<00:00,  2.96it/s]\n",
            "                 Class     Images  Instances          P          R      mAP50   mAP50-95: 100% 1/1 [00:00<00:00,  3.37it/s]\n",
            "                   all         20         20       0.49          1      0.856      0.535\n",
            "\n",
            "      Epoch    GPU_mem   box_loss   obj_loss   cls_loss  Instances       Size\n",
            "      13/49      1.54G    0.03855    0.01249    0.01946          5        416: 100% 14/14 [00:05<00:00,  2.47it/s]\n",
            "                 Class     Images  Instances          P          R      mAP50   mAP50-95: 100% 1/1 [00:00<00:00,  2.13it/s]\n",
            "                   all         20         20      0.565      0.983      0.929      0.646\n",
            "\n",
            "      Epoch    GPU_mem   box_loss   obj_loss   cls_loss  Instances       Size\n",
            "      14/49      1.54G    0.03702    0.01133    0.01978          3        416: 100% 14/14 [00:04<00:00,  2.97it/s]\n",
            "                 Class     Images  Instances          P          R      mAP50   mAP50-95: 100% 1/1 [00:00<00:00,  2.96it/s]\n",
            "                   all         20         20      0.785      0.831      0.945      0.369\n",
            "\n",
            "      Epoch    GPU_mem   box_loss   obj_loss   cls_loss  Instances       Size\n",
            "      15/49      1.54G    0.03426    0.01116    0.01607          3        416: 100% 14/14 [00:05<00:00,  2.54it/s]\n",
            "                 Class     Images  Instances          P          R      mAP50   mAP50-95: 100% 1/1 [00:00<00:00,  1.78it/s]\n",
            "                   all         20         20      0.811      0.967      0.995      0.595\n",
            "\n",
            "      Epoch    GPU_mem   box_loss   obj_loss   cls_loss  Instances       Size\n",
            "      16/49      1.54G    0.03452     0.0111    0.01475          6        416: 100% 14/14 [00:04<00:00,  2.81it/s]\n",
            "                 Class     Images  Instances          P          R      mAP50   mAP50-95: 100% 1/1 [00:00<00:00,  2.96it/s]\n",
            "                   all         20         20      0.937          1      0.976      0.404\n",
            "\n",
            "      Epoch    GPU_mem   box_loss   obj_loss   cls_loss  Instances       Size\n",
            "      17/49      1.54G    0.03299    0.01073    0.01246          6        416: 100% 14/14 [00:05<00:00,  2.70it/s]\n",
            "                 Class     Images  Instances          P          R      mAP50   mAP50-95: 100% 1/1 [00:00<00:00,  1.88it/s]\n",
            "                   all         20         20      0.927          1      0.984      0.607\n",
            "\n",
            "      Epoch    GPU_mem   box_loss   obj_loss   cls_loss  Instances       Size\n",
            "      18/49      1.54G    0.03254    0.00977    0.01056          4        416: 100% 14/14 [00:05<00:00,  2.69it/s]\n",
            "                 Class     Images  Instances          P          R      mAP50   mAP50-95: 100% 1/1 [00:00<00:00,  3.00it/s]\n",
            "                   all         20         20      0.866          1      0.968      0.534\n",
            "\n",
            "      Epoch    GPU_mem   box_loss   obj_loss   cls_loss  Instances       Size\n",
            "      19/49      1.54G     0.0319    0.01006    0.01037          6        416: 100% 14/14 [00:05<00:00,  2.63it/s]\n",
            "                 Class     Images  Instances          P          R      mAP50   mAP50-95: 100% 1/1 [00:00<00:00,  1.59it/s]\n",
            "                   all         20         20      0.924      0.992       0.99      0.526\n",
            "\n",
            "      Epoch    GPU_mem   box_loss   obj_loss   cls_loss  Instances       Size\n",
            "      20/49      1.54G    0.02877   0.009446   0.008832          8        416: 100% 14/14 [00:05<00:00,  2.65it/s]\n",
            "                 Class     Images  Instances          P          R      mAP50   mAP50-95: 100% 1/1 [00:00<00:00,  3.31it/s]\n",
            "                   all         20         20      0.927       0.95      0.995      0.558\n",
            "\n",
            "      Epoch    GPU_mem   box_loss   obj_loss   cls_loss  Instances       Size\n",
            "      21/49      1.54G    0.02904   0.009417   0.009082          4        416: 100% 14/14 [00:04<00:00,  2.92it/s]\n",
            "                 Class     Images  Instances          P          R      mAP50   mAP50-95: 100% 1/1 [00:00<00:00,  1.79it/s]\n",
            "                   all         20         20      0.828          1      0.963      0.566\n",
            "\n",
            "      Epoch    GPU_mem   box_loss   obj_loss   cls_loss  Instances       Size\n",
            "      22/49      1.54G    0.02843   0.008836   0.007006          3        416: 100% 14/14 [00:05<00:00,  2.52it/s]\n",
            "                 Class     Images  Instances          P          R      mAP50   mAP50-95: 100% 1/1 [00:00<00:00,  2.96it/s]\n",
            "                   all         20         20      0.986          1      0.995      0.778\n",
            "\n",
            "      Epoch    GPU_mem   box_loss   obj_loss   cls_loss  Instances       Size\n",
            "      23/49      1.54G    0.02818   0.008535   0.005875          3        416: 100% 14/14 [00:04<00:00,  2.81it/s]\n",
            "                 Class     Images  Instances          P          R      mAP50   mAP50-95: 100% 1/1 [00:00<00:00,  1.79it/s]\n",
            "                   all         20         20      0.845          1      0.981      0.628\n",
            "\n",
            "      Epoch    GPU_mem   box_loss   obj_loss   cls_loss  Instances       Size\n",
            "      24/49      1.54G    0.02761   0.008227   0.006413          3        416: 100% 14/14 [00:05<00:00,  2.53it/s]\n",
            "                 Class     Images  Instances          P          R      mAP50   mAP50-95: 100% 1/1 [00:00<00:00,  3.11it/s]\n",
            "                   all         20         20      0.992          1      0.995      0.807\n",
            "\n",
            "      Epoch    GPU_mem   box_loss   obj_loss   cls_loss  Instances       Size\n",
            "      25/49      1.54G    0.02643   0.008266   0.005076          6        416: 100% 14/14 [00:04<00:00,  2.96it/s]\n",
            "                 Class     Images  Instances          P          R      mAP50   mAP50-95: 100% 1/1 [00:00<00:00,  1.83it/s]\n",
            "                   all         20         20      0.966      0.996      0.995      0.806\n",
            "\n",
            "      Epoch    GPU_mem   box_loss   obj_loss   cls_loss  Instances       Size\n",
            "      26/49      1.54G    0.02618   0.007853   0.006313          3        416: 100% 14/14 [00:05<00:00,  2.66it/s]\n",
            "                 Class     Images  Instances          P          R      mAP50   mAP50-95: 100% 1/1 [00:00<00:00,  3.09it/s]\n",
            "                   all         20         20       0.93      0.995      0.987      0.702\n",
            "\n",
            "      Epoch    GPU_mem   box_loss   obj_loss   cls_loss  Instances       Size\n",
            "      27/49      1.54G    0.02405   0.007997   0.007593          1        416: 100% 14/14 [00:04<00:00,  2.90it/s]\n",
            "                 Class     Images  Instances          P          R      mAP50   mAP50-95: 100% 1/1 [00:00<00:00,  2.47it/s]\n",
            "                   all         20         20      0.948      0.998      0.995      0.786\n",
            "\n",
            "      Epoch    GPU_mem   box_loss   obj_loss   cls_loss  Instances       Size\n",
            "      28/49      1.54G    0.02573   0.007436   0.006049          1        416: 100% 14/14 [00:05<00:00,  2.44it/s]\n",
            "                 Class     Images  Instances          P          R      mAP50   mAP50-95: 100% 1/1 [00:00<00:00,  3.37it/s]\n",
            "                   all         20         20       0.99          1      0.995      0.814\n",
            "\n",
            "      Epoch    GPU_mem   box_loss   obj_loss   cls_loss  Instances       Size\n",
            "      29/49      1.54G    0.02396   0.008365   0.006396          4        416: 100% 14/14 [00:04<00:00,  3.05it/s]\n",
            "                 Class     Images  Instances          P          R      mAP50   mAP50-95: 100% 1/1 [00:00<00:00,  3.24it/s]\n",
            "                   all         20         20      0.993          1      0.995      0.856\n",
            "\n",
            "      Epoch    GPU_mem   box_loss   obj_loss   cls_loss  Instances       Size\n",
            "      30/49      1.54G    0.02365   0.008147   0.007581          5        416: 100% 14/14 [00:05<00:00,  2.39it/s]\n",
            "                 Class     Images  Instances          P          R      mAP50   mAP50-95: 100% 1/1 [00:00<00:00,  3.56it/s]\n",
            "                   all         20         20      0.994          1      0.995      0.835\n",
            "\n",
            "      Epoch    GPU_mem   box_loss   obj_loss   cls_loss  Instances       Size\n",
            "      31/49      1.54G    0.02193   0.007691   0.005639          5        416: 100% 14/14 [00:04<00:00,  2.84it/s]\n",
            "                 Class     Images  Instances          P          R      mAP50   mAP50-95: 100% 1/1 [00:00<00:00,  3.00it/s]\n",
            "                   all         20         20      0.993          1      0.995      0.804\n",
            "\n",
            "      Epoch    GPU_mem   box_loss   obj_loss   cls_loss  Instances       Size\n",
            "      32/49      1.54G    0.02553   0.007608   0.005982          4        416: 100% 14/14 [00:06<00:00,  2.28it/s]\n",
            "                 Class     Images  Instances          P          R      mAP50   mAP50-95: 100% 1/1 [00:00<00:00,  4.50it/s]\n",
            "                   all         20         20      0.992          1      0.995      0.864\n",
            "\n",
            "      Epoch    GPU_mem   box_loss   obj_loss   cls_loss  Instances       Size\n",
            "      33/49      1.54G    0.02201   0.007662    0.00551          5        416: 100% 14/14 [00:04<00:00,  2.86it/s]\n",
            "                 Class     Images  Instances          P          R      mAP50   mAP50-95: 100% 1/1 [00:00<00:00,  3.21it/s]\n",
            "                   all         20         20      0.993          1      0.995      0.805\n",
            "\n",
            "      Epoch    GPU_mem   box_loss   obj_loss   cls_loss  Instances       Size\n",
            "      34/49      1.54G    0.02175   0.007351   0.004448          4        416: 100% 14/14 [00:05<00:00,  2.33it/s]\n",
            "                 Class     Images  Instances          P          R      mAP50   mAP50-95: 100% 1/1 [00:00<00:00,  2.87it/s]\n",
            "                   all         20         20      0.992          1      0.995      0.842\n",
            "\n",
            "      Epoch    GPU_mem   box_loss   obj_loss   cls_loss  Instances       Size\n",
            "      35/49      1.54G     0.0203   0.006884   0.004513          3        416: 100% 14/14 [00:04<00:00,  3.02it/s]\n",
            "                 Class     Images  Instances          P          R      mAP50   mAP50-95: 100% 1/1 [00:00<00:00,  4.24it/s]\n",
            "                   all         20         20      0.992          1      0.995      0.896\n",
            "\n",
            "      Epoch    GPU_mem   box_loss   obj_loss   cls_loss  Instances       Size\n",
            "      36/49      1.54G     0.0205   0.006955   0.006147          3        416: 100% 14/14 [00:05<00:00,  2.46it/s]\n",
            "                 Class     Images  Instances          P          R      mAP50   mAP50-95: 100% 1/1 [00:00<00:00,  2.55it/s]\n",
            "                   all         20         20      0.994          1      0.995      0.884\n",
            "\n",
            "      Epoch    GPU_mem   box_loss   obj_loss   cls_loss  Instances       Size\n",
            "      37/49      1.54G       0.02   0.007019    0.00334          3        416: 100% 14/14 [00:04<00:00,  2.90it/s]\n",
            "                 Class     Images  Instances          P          R      mAP50   mAP50-95: 100% 1/1 [00:00<00:00,  3.21it/s]\n",
            "                   all         20         20      0.992          1      0.995      0.903\n",
            "\n",
            "      Epoch    GPU_mem   box_loss   obj_loss   cls_loss  Instances       Size\n",
            "      38/49      1.54G    0.01999   0.006905   0.004526          6        416: 100% 14/14 [00:06<00:00,  2.32it/s]\n",
            "                 Class     Images  Instances          P          R      mAP50   mAP50-95: 100% 1/1 [00:00<00:00,  3.16it/s]\n",
            "                   all         20         20      0.992          1      0.995      0.931\n",
            "\n",
            "      Epoch    GPU_mem   box_loss   obj_loss   cls_loss  Instances       Size\n",
            "      39/49      1.54G    0.01712   0.006782   0.004225          5        416: 100% 14/14 [00:04<00:00,  2.92it/s]\n",
            "                 Class     Images  Instances          P          R      mAP50   mAP50-95: 100% 1/1 [00:00<00:00,  3.05it/s]\n",
            "                   all         20         20      0.993          1      0.995      0.849\n",
            "\n",
            "      Epoch    GPU_mem   box_loss   obj_loss   cls_loss  Instances       Size\n",
            "      40/49      1.54G    0.01926   0.007374   0.005978          5        416: 100% 14/14 [00:06<00:00,  2.18it/s]\n",
            "                 Class     Images  Instances          P          R      mAP50   mAP50-95: 100% 1/1 [00:00<00:00,  2.95it/s]\n",
            "                   all         20         20      0.994          1      0.995      0.849\n",
            "\n",
            "      Epoch    GPU_mem   box_loss   obj_loss   cls_loss  Instances       Size\n",
            "      41/49      1.54G    0.01749   0.007279   0.003499          7        416: 100% 14/14 [00:05<00:00,  2.76it/s]\n",
            "                 Class     Images  Instances          P          R      mAP50   mAP50-95: 100% 1/1 [00:00<00:00,  2.64it/s]\n",
            "                   all         20         20      0.993          1      0.995      0.897\n",
            "\n",
            "      Epoch    GPU_mem   box_loss   obj_loss   cls_loss  Instances       Size\n",
            "      42/49      1.54G    0.01851   0.006226   0.004068          3        416: 100% 14/14 [00:06<00:00,  2.13it/s]\n",
            "                 Class     Images  Instances          P          R      mAP50   mAP50-95: 100% 1/1 [00:00<00:00,  2.89it/s]\n",
            "                   all         20         20      0.992          1      0.995      0.936\n",
            "\n",
            "      Epoch    GPU_mem   box_loss   obj_loss   cls_loss  Instances       Size\n",
            "      43/49      1.54G    0.01975   0.007091    0.00508          3        416: 100% 14/14 [00:04<00:00,  3.13it/s]\n",
            "                 Class     Images  Instances          P          R      mAP50   mAP50-95: 100% 1/1 [00:00<00:00,  2.75it/s]\n",
            "                   all         20         20      0.991          1      0.995      0.915\n",
            "\n",
            "      Epoch    GPU_mem   box_loss   obj_loss   cls_loss  Instances       Size\n",
            "      44/49      1.54G    0.01604   0.006137   0.005222          2        416: 100% 14/14 [00:06<00:00,  2.21it/s]\n",
            "                 Class     Images  Instances          P          R      mAP50   mAP50-95: 100% 1/1 [00:00<00:00,  2.99it/s]\n",
            "                   all         20         20      0.993          1      0.995      0.957\n",
            "\n",
            "      Epoch    GPU_mem   box_loss   obj_loss   cls_loss  Instances       Size\n",
            "      45/49      1.54G    0.01562   0.007096   0.003236          2        416: 100% 14/14 [00:04<00:00,  3.05it/s]\n",
            "                 Class     Images  Instances          P          R      mAP50   mAP50-95: 100% 1/1 [00:00<00:00,  2.85it/s]\n",
            "                   all         20         20      0.994          1      0.995      0.948\n",
            "\n",
            "      Epoch    GPU_mem   box_loss   obj_loss   cls_loss  Instances       Size\n",
            "      46/49      1.54G    0.01614    0.00668   0.002504          7        416: 100% 14/14 [00:06<00:00,  2.16it/s]\n",
            "                 Class     Images  Instances          P          R      mAP50   mAP50-95: 100% 1/1 [00:00<00:00,  2.55it/s]\n",
            "                   all         20         20      0.995          1      0.995      0.938\n",
            "\n",
            "      Epoch    GPU_mem   box_loss   obj_loss   cls_loss  Instances       Size\n",
            "      47/49      1.54G    0.01583   0.006404    0.00317          5        416: 100% 14/14 [00:04<00:00,  3.01it/s]\n",
            "                 Class     Images  Instances          P          R      mAP50   mAP50-95: 100% 1/1 [00:00<00:00,  2.65it/s]\n",
            "                   all         20         20      0.995          1      0.995      0.959\n",
            "\n",
            "      Epoch    GPU_mem   box_loss   obj_loss   cls_loss  Instances       Size\n",
            "      48/49      1.54G    0.01546   0.005944   0.002527          2        416: 100% 14/14 [00:06<00:00,  2.29it/s]\n",
            "                 Class     Images  Instances          P          R      mAP50   mAP50-95: 100% 1/1 [00:00<00:00,  3.21it/s]\n",
            "                   all         20         20      0.995          1      0.995      0.947\n",
            "\n",
            "      Epoch    GPU_mem   box_loss   obj_loss   cls_loss  Instances       Size\n",
            "      49/49      1.54G    0.01662   0.007033   0.002569          6        416: 100% 14/14 [00:04<00:00,  2.81it/s]\n",
            "                 Class     Images  Instances          P          R      mAP50   mAP50-95: 100% 1/1 [00:00<00:00,  3.06it/s]\n",
            "                   all         20         20      0.995          1      0.995      0.947\n",
            "\n",
            "50 epochs completed in 0.096 hours.\n",
            "Optimizer stripped from runs/train/gun_yolov5s_results2/weights/last.pt, 14.3MB\n",
            "Optimizer stripped from runs/train/gun_yolov5s_results2/weights/best.pt, 14.3MB\n",
            "\n",
            "Validating runs/train/gun_yolov5s_results2/weights/best.pt...\n",
            "Fusing layers... \n",
            "YOLOv5s summary: 157 layers, 7015519 parameters, 0 gradients, 15.8 GFLOPs\n",
            "                 Class     Images  Instances          P          R      mAP50   mAP50-95: 100% 1/1 [00:00<00:00,  2.46it/s]\n",
            "                   all         20         20      0.995          1      0.995      0.959\n",
            "                  NG_L         20          9      0.994          1      0.995      0.922\n",
            "                  OK_L         20         11      0.995          1      0.995      0.995\n",
            "Results saved to \u001b[1mruns/train/gun_yolov5s_results2\u001b[0m\n"
          ]
        }
      ]
    },
    {
      "cell_type": "code",
      "source": [
        "#결과보기 : tensorboard\n",
        "%load_ext tensorboard\n",
        "%tensorboard --logdir /content/yolov5/runs/\n",
        "#주어진 코드는 tensorboard를 사용하여 학습 로그를 시각화하는 명령어입니다.\n",
        "#tensorboard를 활성화\n",
        "#--logdir 옵션을 사용하여 로그 파일이 있는 디렉토리 경로를 지정합니다."
      ],
      "metadata": {
        "id": "ySuAbHkzvcce",
        "colab": {
          "base_uri": "https://localhost:8080/",
          "height": 875
        },
        "outputId": "b64d11a2-afd6-4c2d-f8c8-721a5a226bfd"
      },
      "execution_count": 28,
      "outputs": [
        {
          "output_type": "stream",
          "name": "stdout",
          "text": [
            "The tensorboard extension is already loaded. To reload it, use:\n",
            "  %reload_ext tensorboard\n"
          ]
        },
        {
          "output_type": "display_data",
          "data": {
            "text/plain": [
              "Reusing TensorBoard on port 6006 (pid 1032), started 0:06:36 ago. (Use '!kill 1032' to kill it.)"
            ]
          },
          "metadata": {}
        },
        {
          "output_type": "display_data",
          "data": {
            "text/plain": [
              "<IPython.core.display.Javascript object>"
            ],
            "application/javascript": [
              "\n",
              "        (async () => {\n",
              "            const url = new URL(await google.colab.kernel.proxyPort(6006, {'cache': true}));\n",
              "            url.searchParams.set('tensorboardColab', 'true');\n",
              "            const iframe = document.createElement('iframe');\n",
              "            iframe.src = url;\n",
              "            iframe.setAttribute('width', '100%');\n",
              "            iframe.setAttribute('height', '800');\n",
              "            iframe.setAttribute('frameborder', 0);\n",
              "            document.body.appendChild(iframe);\n",
              "        })();\n",
              "    "
            ]
          },
          "metadata": {}
        }
      ]
    },
    {
      "cell_type": "code",
      "source": [
        "from IPython.display import Image\n",
        "import os\n",
        "val_img_path = val_img_list[3]\n",
        "val_img_path\n",
        "#주어진 코드는 IPython.display 모듈에서 Image 클래스를 가져오고,\n",
        "#os 모듈을 가져온 후, val_img_list에서 4번째 이미지 경로를 val_img_path 변수에 저장하는 것입니다.\n",
        "#val_img_list는 이미지 파일 경로의 리스트로 가정되며, 여기서 4번째 이미지 경로를 val_img_path 변수에 저장합니다.\n",
        "#이후 val_img_path를 출력합니다."
      ],
      "metadata": {
        "id": "CtQNuiUqvcZd",
        "colab": {
          "base_uri": "https://localhost:8080/",
          "height": 35
        },
        "outputId": "fb787dce-03ba-49a1-8efe-38ae15d83894"
      },
      "execution_count": 29,
      "outputs": [
        {
          "output_type": "execute_result",
          "data": {
            "text/plain": [
              "'/content/dataset/valid/images/OK_37_png.rf.4edcbf51c9f71973bd0708e867da4e9a.jpg'"
            ],
            "application/vnd.google.colaboratory.intrinsic+json": {
              "type": "string"
            }
          },
          "metadata": {},
          "execution_count": 29
        }
      ]
    },
    {
      "cell_type": "code",
      "source": [
        "!python detect.py --weights /content/yolov5/runs/train/gun_yolov5s_results2/weights/best.pt --img 416 --conf 0.2 --save-txt --save-crop --save-conf --source /content/dataset/valid/images\n",
        "#주어진 코드는 detect.py 스크립트를 사용하여 이미지에서 물체를 감지하는 명령어입니다.\n",
        "#--weights 옵션은 학습된 모델의 가중치 파일 경로를 지정합니다.\n",
        "#--img 옵션은 입력 이미지의 크기를 지정합니다.\n",
        "#--conf 옵션은 감지 임계값을 지정합니다.\n",
        "#--save-txt, --save-crop, --save-conf 옵션은 각각 감지된 물체의 좌표를 텍스트 파일로 저장하고, 감지된 물체를 잘라내어 저장하며, 감지된 물체의 신뢰도를 저장하는 옵션입니다.\n",
        "#--source 옵션은 입력 이미지의 경로를 지정합니다.\n",
        "#/content/yolov5/runs/train/gun_yolov5s_results2/weights/best.pt 가중치를 사용하여 크기가 416인 이미지에서 물체를 감지하고,\n",
        "#감지된 결과를 텍스트 파일과 잘라낸 이미지로 저장하며, 감지된 물체의 신뢰도를 저장합니다.\n",
        "#입력 이미지는 /content/dataset/valid/images 경로에 있습니다."
      ],
      "metadata": {
        "id": "KCoX1NOrvcWr",
        "colab": {
          "base_uri": "https://localhost:8080/"
        },
        "outputId": "bee0f573-4432-4d08-e5da-82daf70237ad"
      },
      "execution_count": 30,
      "outputs": [
        {
          "output_type": "stream",
          "name": "stdout",
          "text": [
            "\u001b[34m\u001b[1mdetect: \u001b[0mweights=['/content/yolov5/runs/train/gun_yolov5s_results2/weights/best.pt'], source=/content/dataset/valid/images, data=data/coco128.yaml, imgsz=[416, 416], conf_thres=0.2, iou_thres=0.45, max_det=1000, device=, view_img=False, save_txt=True, save_conf=True, save_crop=True, nosave=False, classes=None, agnostic_nms=False, augment=False, visualize=False, update=False, project=runs/detect, name=exp, exist_ok=False, line_thickness=3, hide_labels=False, hide_conf=False, half=False, dnn=False, vid_stride=1\n",
            "YOLOv5 🚀 v7.0-212-g9974d51 Python-3.10.12 torch-2.0.1+cu118 CUDA:0 (Tesla T4, 15102MiB)\n",
            "\n",
            "Fusing layers... \n",
            "YOLOv5s summary: 157 layers, 7015519 parameters, 0 gradients, 15.8 GFLOPs\n",
            "image 1/20 /content/dataset/valid/images/NG_11_png.rf.9c6f48d05be5dc1e48a262c08530125e.jpg: 416x416 1 NG_L, 7.4ms\n",
            "image 2/20 /content/dataset/valid/images/NG_16_png.rf.7fa8dc2b905b2c73d5d9c3bba0223f8a.jpg: 416x416 1 NG_L, 7.4ms\n",
            "image 3/20 /content/dataset/valid/images/NG_18_png.rf.6a2861909f0206c2a5ee504d7fdc0a9f.jpg: 416x416 1 NG_L, 7.4ms\n",
            "image 4/20 /content/dataset/valid/images/NG_29_png.rf.f75c415f97bbc8ed7d3902e557f315d0.jpg: 416x416 1 NG_L, 7.4ms\n",
            "image 5/20 /content/dataset/valid/images/NG_31_png.rf.dd1a88fa9ba5b6c10a312c6f9cd23b9a.jpg: 416x416 1 NG_L, 7.4ms\n",
            "image 6/20 /content/dataset/valid/images/NG_33_png.rf.21be205081963569ce38cd1590a00f0e.jpg: 416x416 1 NG_L, 7.4ms\n",
            "image 7/20 /content/dataset/valid/images/NG_43_png.rf.e2d8e50253a96a11a4200386a58c1e32.jpg: 416x416 1 NG_L, 7.4ms\n",
            "image 8/20 /content/dataset/valid/images/NG_46_png.rf.cbcfd0f45092b754cdab54c6c6fd3f4b.jpg: 416x416 1 NG_L, 7.5ms\n",
            "image 9/20 /content/dataset/valid/images/NG_47_png.rf.b5ff2c420e6cc49168c9e4bc0a131354.jpg: 416x416 1 NG_L, 7.4ms\n",
            "image 10/20 /content/dataset/valid/images/OK_11_png.rf.c06d70475ce8ea9bbfa5513b1f140669.jpg: 416x416 1 OK_L, 7.4ms\n",
            "image 11/20 /content/dataset/valid/images/OK_16_png.rf.cae9aa59f5a696bc307713f5cfa9cf4c.jpg: 416x416 1 OK_L, 7.4ms\n",
            "image 12/20 /content/dataset/valid/images/OK_24_png.rf.bed178af89aceea69024e1cc89399f2e.jpg: 416x416 1 OK_L, 7.4ms\n",
            "image 13/20 /content/dataset/valid/images/OK_2_png.rf.98b97daee39f054102ffea4b5f3014e4.jpg: 416x416 1 OK_L, 7.5ms\n",
            "image 14/20 /content/dataset/valid/images/OK_33_png.rf.4737390f621df0ccf9d0e1c3a9aa7d01.jpg: 416x416 1 OK_L, 7.4ms\n",
            "image 15/20 /content/dataset/valid/images/OK_35_png.rf.38912dfda1b4cd86ebf44d4d3d51dc02.jpg: 416x416 1 OK_L, 7.4ms\n",
            "image 16/20 /content/dataset/valid/images/OK_37_png.rf.4edcbf51c9f71973bd0708e867da4e9a.jpg: 416x416 1 OK_L, 7.4ms\n",
            "image 17/20 /content/dataset/valid/images/OK_40_png.rf.c81d7f656680d61b4297c6346d44f850.jpg: 416x416 1 OK_L, 7.4ms\n",
            "image 18/20 /content/dataset/valid/images/OK_48_png.rf.a1412f23893d17a42727bfff41abf351.jpg: 416x416 1 OK_L, 7.4ms\n",
            "image 19/20 /content/dataset/valid/images/OK_49_png.rf.e7dc2875071ae1da9d367503ed3c02fc.jpg: 416x416 1 OK_L, 7.4ms\n",
            "image 20/20 /content/dataset/valid/images/OK_50_png.rf.6b0c97d52ba2fd2828b1d930db46abfa.jpg: 416x416 1 OK_L, 7.4ms\n",
            "Speed: 0.3ms pre-process, 7.4ms inference, 1.1ms NMS per image at shape (1, 3, 416, 416)\n",
            "Results saved to \u001b[1mruns/detect/exp4\u001b[0m\n",
            "20 labels saved to runs/detect/exp4/labels\n"
          ]
        }
      ]
    },
    {
      "cell_type": "code",
      "source": [
        "val_img_list[3]\n",
        "#val_img_list라는 리스트에서 인덱스 3에 해당하는 요소를 가져오는 것"
      ],
      "metadata": {
        "id": "--QeCRKFvcT8",
        "colab": {
          "base_uri": "https://localhost:8080/",
          "height": 35
        },
        "outputId": "0432d814-825d-4f08-d885-40392f52fab3"
      },
      "execution_count": 31,
      "outputs": [
        {
          "output_type": "execute_result",
          "data": {
            "text/plain": [
              "'/content/dataset/valid/images/OK_37_png.rf.4edcbf51c9f71973bd0708e867da4e9a.jpg'"
            ],
            "application/vnd.google.colaboratory.intrinsic+json": {
              "type": "string"
            }
          },
          "metadata": {},
          "execution_count": 31
        }
      ]
    },
    {
      "cell_type": "code",
      "source": [
        "!python detect.py --weights /content/yolov5/runs/train/gun_yolov5s_results2/weights/best.pt --img 416 --conf 0.2 --save-txt --save-crop --save-conf --source {img_file}\n",
        "#주어진 코드는 detect.py 스크립트를 사용하여 이미지에서 물체를 감지하는 명령어입니다.\n",
        "#--weights 옵션은 학습된 모델의 가중치 파일 경로를 지정합니다.\n",
        "#--img 옵션은 입력 이미지의 크기를 지정합니다.\n",
        "#--conf 옵션은 감지 임계값을 지정합니다.\n",
        "#--save-txt, --save-crop, --save-conf 옵션은 각각 감지된 물체의 좌표를 텍스트 파일로 저장하고, 감지된 물체를 잘라내어 저장하며, 감지된 물체의 신뢰도를 저장하는 옵션입니다.\n",
        "#--source 옵션은 입력 이미지의 경로를 지정합니다.\n",
        "#{img_file}은 변수나 파일 경로를 나타내는 것으로 추정됩니다. 실제로 사용할 때는 해당 변수나 파일 경로로 대체되어야 합니다.\n",
        "#/content/yolov5/runs/train/gun_yolov5s_results2/weights/best.pt 가중치를 사용하여 크기가 416인 이미지에서 물체를 감지하고,\n",
        "#감지된 결과를 텍스트 파일과 잘라낸 이미지로 저장하며, 감지된 물체의 신뢰도를 저장합니다.\n",
        "#입력 이미지는 {img_file} 경로에 있어야 합니다."
      ],
      "metadata": {
        "id": "8uwQzKH5vcRI",
        "colab": {
          "base_uri": "https://localhost:8080/"
        },
        "outputId": "49e811b7-7b6f-4824-baca-e68711b13ea8"
      },
      "execution_count": 32,
      "outputs": [
        {
          "output_type": "stream",
          "name": "stdout",
          "text": [
            "\u001b[34m\u001b[1mdetect: \u001b[0mweights=['/content/yolov5/runs/train/gun_yolov5s_results2/weights/best.pt'], source=/content/dataset/valid/images/NG_16_png.rf.7fa8dc2b905b2c73d5d9c3bba0223f8a.jpg, data=data/coco128.yaml, imgsz=[416, 416], conf_thres=0.2, iou_thres=0.45, max_det=1000, device=, view_img=False, save_txt=True, save_conf=True, save_crop=True, nosave=False, classes=None, agnostic_nms=False, augment=False, visualize=False, update=False, project=runs/detect, name=exp, exist_ok=False, line_thickness=3, hide_labels=False, hide_conf=False, half=False, dnn=False, vid_stride=1\n",
            "YOLOv5 🚀 v7.0-212-g9974d51 Python-3.10.12 torch-2.0.1+cu118 CUDA:0 (Tesla T4, 15102MiB)\n",
            "\n",
            "Fusing layers... \n",
            "YOLOv5s summary: 157 layers, 7015519 parameters, 0 gradients, 15.8 GFLOPs\n",
            "image 1/1 /content/dataset/valid/images/NG_16_png.rf.7fa8dc2b905b2c73d5d9c3bba0223f8a.jpg: 416x416 1 NG_L, 10.7ms\n",
            "Speed: 0.5ms pre-process, 10.7ms inference, 1.8ms NMS per image at shape (1, 3, 416, 416)\n",
            "Results saved to \u001b[1mruns/detect/exp5\u001b[0m\n",
            "1 labels saved to runs/detect/exp5/labels\n"
          ]
        }
      ]
    },
    {
      "cell_type": "code",
      "source": [
        "output = '/content/yolov5/runs/detect/exp4/OK_11_png.rf.c06d70475ce8ea9bbfa5513b1f140669.jpg'\n",
        "Image(output)\n",
        "#output 변수에 저장된 이미지 파일을 로드하여 출력하는 것입니다.\n",
        "#Image(output)는 PIL 라이브러리의 Image 클래스를 사용하여 해당 이미지 파일을 로드하고 출력하는 것입니다."
      ],
      "metadata": {
        "id": "mzqHXEmevcOE",
        "colab": {
          "base_uri": "https://localhost:8080/",
          "height": 657
        },
        "outputId": "0f454b76-7574-4919-81db-a935862c0a1a"
      },
      "execution_count": 36,
      "outputs": [
        {
          "output_type": "execute_result",
          "data": {
            "image/jpeg": "[encoded data removed]",
            "text/plain": [
              "<IPython.core.display.Image object>"
            ]
          },
          "metadata": {},
          "execution_count": 36
        }
      ]
    }
  ]
}