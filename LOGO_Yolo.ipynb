{
  "nbformat": 4,
  "nbformat_minor": 0,
  "metadata": {
    "colab": {
      "provenance": [],
      "authorship_tag": "ABX9TyOrFv/eqFORojy4ElzKgSAL",
      "include_colab_link": true
    },
    "kernelspec": {
      "name": "python3",
      "display_name": "Python 3"
    },
    "language_info": {
      "name": "python"
    }
  },
  "cells": [
    {
      "cell_type": "markdown",
      "metadata": {
        "id": "view-in-github",
        "colab_type": "text"
      },
      "source": [
        "<a href=\"https://colab.research.google.com/github/HSChoo/test1/blob/main/LOGO_Yolo.ipynb\" target=\"_parent\"><img src=\"https://colab.research.google.com/assets/colab-badge.svg\" alt=\"Open In Colab\"/></a>"
      ]
    },
    {
      "cell_type": "code",
      "execution_count": 7,
      "metadata": {
        "colab": {
          "base_uri": "https://localhost:8080/"
        },
        "id": "hWwqHphKtGd1",
        "outputId": "79414e50-e2f6-4708-a5d1-198ee0c2461c"
      },
      "outputs": [
        {
          "output_type": "stream",
          "name": "stdout",
          "text": [
            "  % Total    % Received % Xferd  Average Speed   Time    Time     Time  Current\n",
            "                                 Dload  Upload   Total   Spent    Left  Speed\n",
            "100   901  100   901    0     0   2076      0 --:--:-- --:--:-- --:--:--  2080\n",
            "100 2534k  100 2534k    0     0  3729k      0 --:--:-- --:--:-- --:--:-- 3729k\n"
          ]
        }
      ],
      "source": [
        "#roboflow data 사용\n",
        "!curl -L -o robo.zip https://app.roboflow.com/ds/0ra06QnUIe?key=aNZ78xaOoe"
      ]
    },
    {
      "cell_type": "code",
      "source": [
        "!mkdir dataset"
      ],
      "metadata": {
        "colab": {
          "base_uri": "https://localhost:8080/"
        },
        "id": "gFOcmrxStIJB",
        "outputId": "df3550e2-6ad2-4765-c6a5-4c6b59300d42"
      },
      "execution_count": 8,
      "outputs": [
        {
          "output_type": "stream",
          "name": "stdout",
          "text": [
            "mkdir: cannot create directory ‘dataset’: File exists\n"
          ]
        }
      ]
    },
    {
      "cell_type": "code",
      "source": [
        "!mv robo.zip ./dataset"
      ],
      "metadata": {
        "id": "mFqhxnqhuJQt"
      },
      "execution_count": 9,
      "outputs": []
    },
    {
      "cell_type": "code",
      "source": [
        "%cd dataset\n",
        "!unzip -oq robo.zip"
      ],
      "metadata": {
        "colab": {
          "base_uri": "https://localhost:8080/"
        },
        "id": "c3DHaYS8uJNR",
        "outputId": "ee3a36b7-54d9-4516-956f-4fcb062fb535"
      },
      "execution_count": 10,
      "outputs": [
        {
          "output_type": "stream",
          "name": "stdout",
          "text": [
            "/content/dataset\n"
          ]
        }
      ]
    },
    {
      "cell_type": "code",
      "source": [
        "# Yolov5 환경설정\n",
        "# 초기화\n",
        "\n",
        "%cd /content\n",
        "!git clone https://github.com/ultralytics/yolov5.git"
      ],
      "metadata": {
        "colab": {
          "base_uri": "https://localhost:8080/"
        },
        "id": "kkmMbfcXuJKa",
        "outputId": "8b1d94e1-33b9-4503-cb01-4b801b800087"
      },
      "execution_count": 11,
      "outputs": [
        {
          "output_type": "stream",
          "name": "stdout",
          "text": [
            "/content\n",
            "Cloning into 'yolov5'...\n",
            "remote: Enumerating objects: 15921, done.\u001b[K\n",
            "remote: Counting objects: 100% (41/41), done.\u001b[K\n",
            "remote: Compressing objects: 100% (32/32), done.\u001b[K\n",
            "remote: Total 15921 (delta 15), reused 22 (delta 9), pack-reused 15880\u001b[K\n",
            "Receiving objects: 100% (15921/15921), 14.60 MiB | 25.51 MiB/s, done.\n",
            "Resolving deltas: 100% (10914/10914), done.\n"
          ]
        }
      ]
    },
    {
      "cell_type": "code",
      "source": [
        "%cd /content/yolov5/\n",
        "!pip install -r requirements.txt"
      ],
      "metadata": {
        "colab": {
          "base_uri": "https://localhost:8080/"
        },
        "id": "eYmXVPQwuJHb",
        "outputId": "f0a835d3-8cf9-453e-9792-2b5ed899ba0e"
      },
      "execution_count": 12,
      "outputs": [
        {
          "output_type": "stream",
          "name": "stdout",
          "text": [
            "/content/yolov5\n",
            "Collecting gitpython>=3.1.30 (from -r requirements.txt (line 5))\n",
            "  Downloading GitPython-3.1.32-py3-none-any.whl (188 kB)\n",
            "\u001b[2K     \u001b[90m━━━━━━━━━━━━━━━━━━━━━━━━━━━━━━━━━━━━━━━\u001b[0m \u001b[32m188.5/188.5 kB\u001b[0m \u001b[31m3.5 MB/s\u001b[0m eta \u001b[36m0:00:00\u001b[0m\n",
            "\u001b[?25hRequirement already satisfied: matplotlib>=3.3 in /usr/local/lib/python3.10/dist-packages (from -r requirements.txt (line 6)) (3.7.1)\n",
            "Requirement already satisfied: numpy>=1.22.2 in /usr/local/lib/python3.10/dist-packages (from -r requirements.txt (line 7)) (1.23.5)\n",
            "Requirement already satisfied: opencv-python>=4.1.1 in /usr/local/lib/python3.10/dist-packages (from -r requirements.txt (line 8)) (4.8.0.76)\n",
            "Requirement already satisfied: Pillow>=7.1.2 in /usr/local/lib/python3.10/dist-packages (from -r requirements.txt (line 9)) (9.4.0)\n",
            "Requirement already satisfied: psutil in /usr/local/lib/python3.10/dist-packages (from -r requirements.txt (line 10)) (5.9.5)\n",
            "Requirement already satisfied: PyYAML>=5.3.1 in /usr/local/lib/python3.10/dist-packages (from -r requirements.txt (line 11)) (6.0.1)\n",
            "Requirement already satisfied: requests>=2.23.0 in /usr/local/lib/python3.10/dist-packages (from -r requirements.txt (line 12)) (2.31.0)\n",
            "Requirement already satisfied: scipy>=1.4.1 in /usr/local/lib/python3.10/dist-packages (from -r requirements.txt (line 13)) (1.10.1)\n",
            "Collecting thop>=0.1.1 (from -r requirements.txt (line 14))\n",
            "  Downloading thop-0.1.1.post2209072238-py3-none-any.whl (15 kB)\n",
            "Requirement already satisfied: torch>=1.8.0 in /usr/local/lib/python3.10/dist-packages (from -r requirements.txt (line 15)) (2.0.1+cu118)\n",
            "Requirement already satisfied: torchvision>=0.9.0 in /usr/local/lib/python3.10/dist-packages (from -r requirements.txt (line 16)) (0.15.2+cu118)\n",
            "Requirement already satisfied: tqdm>=4.64.0 in /usr/local/lib/python3.10/dist-packages (from -r requirements.txt (line 17)) (4.66.0)\n",
            "Collecting ultralytics>=8.0.147 (from -r requirements.txt (line 18))\n",
            "  Downloading ultralytics-8.0.154-py3-none-any.whl (612 kB)\n",
            "\u001b[2K     \u001b[90m━━━━━━━━━━━━━━━━━━━━━━━━━━━━━━━━━━━━━━\u001b[0m \u001b[32m613.0/613.0 kB\u001b[0m \u001b[31m23.0 MB/s\u001b[0m eta \u001b[36m0:00:00\u001b[0m\n",
            "\u001b[?25hRequirement already satisfied: pandas>=1.1.4 in /usr/local/lib/python3.10/dist-packages (from -r requirements.txt (line 27)) (1.5.3)\n",
            "Requirement already satisfied: seaborn>=0.11.0 in /usr/local/lib/python3.10/dist-packages (from -r requirements.txt (line 28)) (0.12.2)\n",
            "Requirement already satisfied: setuptools>=65.5.1 in /usr/local/lib/python3.10/dist-packages (from -r requirements.txt (line 42)) (67.7.2)\n",
            "Collecting gitdb<5,>=4.0.1 (from gitpython>=3.1.30->-r requirements.txt (line 5))\n",
            "  Downloading gitdb-4.0.10-py3-none-any.whl (62 kB)\n",
            "\u001b[2K     \u001b[90m━━━━━━━━━━━━━━━━━━━━━━━━━━━━━━━━━━━━━━━━\u001b[0m \u001b[32m62.7/62.7 kB\u001b[0m \u001b[31m6.5 MB/s\u001b[0m eta \u001b[36m0:00:00\u001b[0m\n",
            "\u001b[?25hRequirement already satisfied: contourpy>=1.0.1 in /usr/local/lib/python3.10/dist-packages (from matplotlib>=3.3->-r requirements.txt (line 6)) (1.1.0)\n",
            "Requirement already satisfied: cycler>=0.10 in /usr/local/lib/python3.10/dist-packages (from matplotlib>=3.3->-r requirements.txt (line 6)) (0.11.0)\n",
            "Requirement already satisfied: fonttools>=4.22.0 in /usr/local/lib/python3.10/dist-packages (from matplotlib>=3.3->-r requirements.txt (line 6)) (4.42.0)\n",
            "Requirement already satisfied: kiwisolver>=1.0.1 in /usr/local/lib/python3.10/dist-packages (from matplotlib>=3.3->-r requirements.txt (line 6)) (1.4.4)\n",
            "Requirement already satisfied: packaging>=20.0 in /usr/local/lib/python3.10/dist-packages (from matplotlib>=3.3->-r requirements.txt (line 6)) (23.1)\n",
            "Requirement already satisfied: pyparsing>=2.3.1 in /usr/local/lib/python3.10/dist-packages (from matplotlib>=3.3->-r requirements.txt (line 6)) (3.1.1)\n",
            "Requirement already satisfied: python-dateutil>=2.7 in /usr/local/lib/python3.10/dist-packages (from matplotlib>=3.3->-r requirements.txt (line 6)) (2.8.2)\n",
            "Requirement already satisfied: charset-normalizer<4,>=2 in /usr/local/lib/python3.10/dist-packages (from requests>=2.23.0->-r requirements.txt (line 12)) (3.2.0)\n",
            "Requirement already satisfied: idna<4,>=2.5 in /usr/local/lib/python3.10/dist-packages (from requests>=2.23.0->-r requirements.txt (line 12)) (3.4)\n",
            "Requirement already satisfied: urllib3<3,>=1.21.1 in /usr/local/lib/python3.10/dist-packages (from requests>=2.23.0->-r requirements.txt (line 12)) (2.0.4)\n",
            "Requirement already satisfied: certifi>=2017.4.17 in /usr/local/lib/python3.10/dist-packages (from requests>=2.23.0->-r requirements.txt (line 12)) (2023.7.22)\n",
            "Requirement already satisfied: filelock in /usr/local/lib/python3.10/dist-packages (from torch>=1.8.0->-r requirements.txt (line 15)) (3.12.2)\n",
            "Requirement already satisfied: typing-extensions in /usr/local/lib/python3.10/dist-packages (from torch>=1.8.0->-r requirements.txt (line 15)) (4.7.1)\n",
            "Requirement already satisfied: sympy in /usr/local/lib/python3.10/dist-packages (from torch>=1.8.0->-r requirements.txt (line 15)) (1.12)\n",
            "Requirement already satisfied: networkx in /usr/local/lib/python3.10/dist-packages (from torch>=1.8.0->-r requirements.txt (line 15)) (3.1)\n",
            "Requirement already satisfied: jinja2 in /usr/local/lib/python3.10/dist-packages (from torch>=1.8.0->-r requirements.txt (line 15)) (3.1.2)\n",
            "Requirement already satisfied: triton==2.0.0 in /usr/local/lib/python3.10/dist-packages (from torch>=1.8.0->-r requirements.txt (line 15)) (2.0.0)\n",
            "Requirement already satisfied: cmake in /usr/local/lib/python3.10/dist-packages (from triton==2.0.0->torch>=1.8.0->-r requirements.txt (line 15)) (3.27.1)\n",
            "Requirement already satisfied: lit in /usr/local/lib/python3.10/dist-packages (from triton==2.0.0->torch>=1.8.0->-r requirements.txt (line 15)) (16.0.6)\n",
            "Requirement already satisfied: py-cpuinfo in /usr/local/lib/python3.10/dist-packages (from ultralytics>=8.0.147->-r requirements.txt (line 18)) (9.0.0)\n",
            "Requirement already satisfied: pytz>=2020.1 in /usr/local/lib/python3.10/dist-packages (from pandas>=1.1.4->-r requirements.txt (line 27)) (2023.3)\n",
            "Collecting smmap<6,>=3.0.1 (from gitdb<5,>=4.0.1->gitpython>=3.1.30->-r requirements.txt (line 5))\n",
            "  Downloading smmap-5.0.0-py3-none-any.whl (24 kB)\n",
            "Requirement already satisfied: six>=1.5 in /usr/local/lib/python3.10/dist-packages (from python-dateutil>=2.7->matplotlib>=3.3->-r requirements.txt (line 6)) (1.16.0)\n",
            "Requirement already satisfied: MarkupSafe>=2.0 in /usr/local/lib/python3.10/dist-packages (from jinja2->torch>=1.8.0->-r requirements.txt (line 15)) (2.1.3)\n",
            "Requirement already satisfied: mpmath>=0.19 in /usr/local/lib/python3.10/dist-packages (from sympy->torch>=1.8.0->-r requirements.txt (line 15)) (1.3.0)\n",
            "Installing collected packages: smmap, gitdb, gitpython, ultralytics, thop\n",
            "Successfully installed gitdb-4.0.10 gitpython-3.1.32 smmap-5.0.0 thop-0.1.1.post2209072238 ultralytics-8.0.154\n"
          ]
        }
      ]
    },
    {
      "cell_type": "code",
      "source": [
        "!pwd"
      ],
      "metadata": {
        "colab": {
          "base_uri": "https://localhost:8080/"
        },
        "id": "1v_o8MRcuJES",
        "outputId": "c2170f52-dcb4-4e72-ad49-d18c02cf0eff"
      },
      "execution_count": 13,
      "outputs": [
        {
          "output_type": "stream",
          "name": "stdout",
          "text": [
            "/content/yolov5\n"
          ]
        }
      ]
    },
    {
      "cell_type": "code",
      "source": [
        "%cat /content/dataset/data.yaml"
      ],
      "metadata": {
        "colab": {
          "base_uri": "https://localhost:8080/"
        },
        "id": "SLlUUhCJuJBJ",
        "outputId": "0556f705-48c0-4208-9a7e-90cbc51c850c"
      },
      "execution_count": 14,
      "outputs": [
        {
          "output_type": "stream",
          "name": "stdout",
          "text": [
            "train: ../train/images\n",
            "val: ../valid/images\n",
            "test: ../test/images\n",
            "\n",
            "nc: 100\n",
            "names: ['NG_01', 'NG_02', 'NG_03', 'NG_04', 'NG_05', 'NG_06', 'NG_07', 'NG_08', 'NG_09', 'NG_10', 'NG_11', 'NG_12', 'NG_13', 'NG_14', 'NG_15', 'NG_16', 'NG_17', 'NG_18', 'NG_19', 'NG_20', 'NG_21', 'NG_22', 'NG_23', 'NG_24', 'NG_25', 'NG_26', 'NG_27', 'NG_28', 'NG_29', 'NG_30', 'NG_31', 'NG_32', 'NG_33', 'NG_34', 'NG_35', 'NG_36', 'NG_37', 'NG_38', 'NG_39', 'NG_40', 'NG_41', 'NG_42', 'NG_43', 'NG_44', 'NG_45', 'NG_46', 'NG_47', 'NG_48', 'NG_49', 'NG_50', 'OK_01', 'OK_02', 'OK_03', 'OK_04', 'OK_05', 'OK_06', 'OK_07', 'OK_08', 'OK_09', 'OK_10', 'OK_11', 'OK_12', 'OK_13', 'OK_14', 'OK_15', 'OK_16', 'OK_17', 'OK_18', 'OK_19', 'OK_20', 'OK_21', 'OK_22', 'OK_23', 'OK_24', 'OK_25', 'OK_26', 'OK_27', 'OK_28', 'OK_29', 'OK_30', 'OK_31', 'OK_32', 'OK_33', 'OK_34', 'OK_35', 'OK_36', 'OK_37', 'OK_38', 'OK_39', 'OK_40', 'OK_41', 'OK_42', 'OK_43', 'OK_44', 'OK_45', 'OK_46', 'OK_47', 'OK_48', 'OK_49', 'OK_50']\n",
            "\n",
            "roboflow:\n",
            "  workspace: hs-esyhr\n",
            "  project: logo-wqq57\n",
            "  version: 1\n",
            "  license: CC BY 4.0\n",
            "  url: https://universe.roboflow.com/hs-esyhr/logo-wqq57/dataset/1"
          ]
        }
      ]
    },
    {
      "cell_type": "code",
      "source": [
        "%cd /\n",
        "from glob import glob\n",
        "train_img_list = glob('/content/dataset/train/images/*.jpg')\n",
        "val_img_list = glob('/content/dataset/valid/images/*.jpg')\n",
        "print(len(train_img_list)), print(len(val_img_list))"
      ],
      "metadata": {
        "colab": {
          "base_uri": "https://localhost:8080/"
        },
        "id": "sFQgHasluI7E",
        "outputId": "8b9a8860-22c4-4508-f5c7-301958ac8f73"
      },
      "execution_count": 15,
      "outputs": [
        {
          "output_type": "stream",
          "name": "stdout",
          "text": [
            "/\n",
            "70\n",
            "20\n"
          ]
        },
        {
          "output_type": "execute_result",
          "data": {
            "text/plain": [
              "(None, None)"
            ]
          },
          "metadata": {},
          "execution_count": 15
        }
      ]
    },
    {
      "cell_type": "code",
      "source": [
        "train_img_list[:3]"
      ],
      "metadata": {
        "colab": {
          "base_uri": "https://localhost:8080/"
        },
        "id": "kCSXH4eIuI4J",
        "outputId": "7a865652-a890-4b30-ba6f-a05e33459a9b"
      },
      "execution_count": 16,
      "outputs": [
        {
          "output_type": "execute_result",
          "data": {
            "text/plain": [
              "['/content/dataset/train/images/NG_30_png.rf.17f7022806118c3baa5db0ab89b669da.jpg',\n",
              " '/content/dataset/train/images/NG_29_png.rf.da827ca620abb284e572ab57d423c534.jpg',\n",
              " '/content/dataset/train/images/NG_19_png.rf.f87c9bf96ca2806efd8d17d9f8850fb5.jpg']"
            ]
          },
          "metadata": {},
          "execution_count": 16
        }
      ]
    },
    {
      "cell_type": "code",
      "source": [
        "with open('/content/dataset/train.txt', 'w') as f:\n",
        "  f.write('\\n'.join(train_img_list) + '\\n')\n",
        "\n",
        "with open('/content/dataset/val.txt', 'w') as f:\n",
        "  f.write('\\n'.join(val_img_list) + '\\n')"
      ],
      "metadata": {
        "id": "Lp3JU4iYuI1S"
      },
      "execution_count": 17,
      "outputs": []
    },
    {
      "cell_type": "code",
      "source": [
        "!head -5 /content/dataset/train.txt"
      ],
      "metadata": {
        "colab": {
          "base_uri": "https://localhost:8080/"
        },
        "id": "JN5AyRcquIyB",
        "outputId": "6b02af33-047d-4cc0-abed-2d3b7598a5ce"
      },
      "execution_count": 18,
      "outputs": [
        {
          "output_type": "stream",
          "name": "stdout",
          "text": [
            "/content/dataset/train/images/NG_30_png.rf.17f7022806118c3baa5db0ab89b669da.jpg\n",
            "/content/dataset/train/images/NG_29_png.rf.da827ca620abb284e572ab57d423c534.jpg\n",
            "/content/dataset/train/images/NG_19_png.rf.f87c9bf96ca2806efd8d17d9f8850fb5.jpg\n",
            "/content/dataset/train/images/OK_37_png.rf.d27187333537df6118da0294b0dac4d7.jpg\n",
            "/content/dataset/train/images/OK_31_png.rf.808ff3f76510fad791c0e02071d8a90c.jpg\n"
          ]
        }
      ]
    },
    {
      "cell_type": "code",
      "source": [
        "#yaml 파일 업데이트\n",
        "\n",
        "import yaml\n",
        "\n",
        "with open('/content/dataset/data.yaml', 'r') as f:\n",
        "  data = yaml.safe_load(f)\n",
        "\n",
        "print(data)"
      ],
      "metadata": {
        "colab": {
          "base_uri": "https://localhost:8080/"
        },
        "id": "IV4GqN8-uIui",
        "outputId": "a18045e4-8bb3-4365-9238-ad8943aec003"
      },
      "execution_count": 19,
      "outputs": [
        {
          "output_type": "stream",
          "name": "stdout",
          "text": [
            "{'train': '../train/images', 'val': '../valid/images', 'test': '../test/images', 'nc': 100, 'names': ['NG_01', 'NG_02', 'NG_03', 'NG_04', 'NG_05', 'NG_06', 'NG_07', 'NG_08', 'NG_09', 'NG_10', 'NG_11', 'NG_12', 'NG_13', 'NG_14', 'NG_15', 'NG_16', 'NG_17', 'NG_18', 'NG_19', 'NG_20', 'NG_21', 'NG_22', 'NG_23', 'NG_24', 'NG_25', 'NG_26', 'NG_27', 'NG_28', 'NG_29', 'NG_30', 'NG_31', 'NG_32', 'NG_33', 'NG_34', 'NG_35', 'NG_36', 'NG_37', 'NG_38', 'NG_39', 'NG_40', 'NG_41', 'NG_42', 'NG_43', 'NG_44', 'NG_45', 'NG_46', 'NG_47', 'NG_48', 'NG_49', 'NG_50', 'OK_01', 'OK_02', 'OK_03', 'OK_04', 'OK_05', 'OK_06', 'OK_07', 'OK_08', 'OK_09', 'OK_10', 'OK_11', 'OK_12', 'OK_13', 'OK_14', 'OK_15', 'OK_16', 'OK_17', 'OK_18', 'OK_19', 'OK_20', 'OK_21', 'OK_22', 'OK_23', 'OK_24', 'OK_25', 'OK_26', 'OK_27', 'OK_28', 'OK_29', 'OK_30', 'OK_31', 'OK_32', 'OK_33', 'OK_34', 'OK_35', 'OK_36', 'OK_37', 'OK_38', 'OK_39', 'OK_40', 'OK_41', 'OK_42', 'OK_43', 'OK_44', 'OK_45', 'OK_46', 'OK_47', 'OK_48', 'OK_49', 'OK_50'], 'roboflow': {'workspace': 'hs-esyhr', 'project': 'logo-wqq57', 'version': 1, 'license': 'CC BY 4.0', 'url': 'https://universe.roboflow.com/hs-esyhr/logo-wqq57/dataset/1'}}\n"
          ]
        }
      ]
    },
    {
      "cell_type": "code",
      "source": [
        "data['train'] = '/content/dataset/train.txt'\n",
        "data['val'] = '/content/dataset/val.txt'\n",
        "\n",
        "with open('/content/dataset/data.yaml', 'w') as f:\n",
        "  yaml.dump(data, f)\n",
        "\n",
        "print(data)"
      ],
      "metadata": {
        "colab": {
          "base_uri": "https://localhost:8080/"
        },
        "id": "2QbprYbzuIi5",
        "outputId": "152884a1-5b66-417c-b7c0-38059260246c"
      },
      "execution_count": 20,
      "outputs": [
        {
          "output_type": "stream",
          "name": "stdout",
          "text": [
            "{'train': '/content/dataset/train.txt', 'val': '/content/dataset/val.txt', 'test': '../test/images', 'nc': 100, 'names': ['NG_01', 'NG_02', 'NG_03', 'NG_04', 'NG_05', 'NG_06', 'NG_07', 'NG_08', 'NG_09', 'NG_10', 'NG_11', 'NG_12', 'NG_13', 'NG_14', 'NG_15', 'NG_16', 'NG_17', 'NG_18', 'NG_19', 'NG_20', 'NG_21', 'NG_22', 'NG_23', 'NG_24', 'NG_25', 'NG_26', 'NG_27', 'NG_28', 'NG_29', 'NG_30', 'NG_31', 'NG_32', 'NG_33', 'NG_34', 'NG_35', 'NG_36', 'NG_37', 'NG_38', 'NG_39', 'NG_40', 'NG_41', 'NG_42', 'NG_43', 'NG_44', 'NG_45', 'NG_46', 'NG_47', 'NG_48', 'NG_49', 'NG_50', 'OK_01', 'OK_02', 'OK_03', 'OK_04', 'OK_05', 'OK_06', 'OK_07', 'OK_08', 'OK_09', 'OK_10', 'OK_11', 'OK_12', 'OK_13', 'OK_14', 'OK_15', 'OK_16', 'OK_17', 'OK_18', 'OK_19', 'OK_20', 'OK_21', 'OK_22', 'OK_23', 'OK_24', 'OK_25', 'OK_26', 'OK_27', 'OK_28', 'OK_29', 'OK_30', 'OK_31', 'OK_32', 'OK_33', 'OK_34', 'OK_35', 'OK_36', 'OK_37', 'OK_38', 'OK_39', 'OK_40', 'OK_41', 'OK_42', 'OK_43', 'OK_44', 'OK_45', 'OK_46', 'OK_47', 'OK_48', 'OK_49', 'OK_50'], 'roboflow': {'workspace': 'hs-esyhr', 'project': 'logo-wqq57', 'version': 1, 'license': 'CC BY 4.0', 'url': 'https://universe.roboflow.com/hs-esyhr/logo-wqq57/dataset/1'}}\n"
          ]
        }
      ]
    },
    {
      "cell_type": "code",
      "source": [
        "%cat /content/dataset/data.yaml"
      ],
      "metadata": {
        "colab": {
          "base_uri": "https://localhost:8080/"
        },
        "id": "JBS9oRw1uuW9",
        "outputId": "1f100c76-1717-4dd5-f4fb-34b83de67685"
      },
      "execution_count": 21,
      "outputs": [
        {
          "output_type": "stream",
          "name": "stdout",
          "text": [
            "names:\n",
            "- NG_01\n",
            "- NG_02\n",
            "- NG_03\n",
            "- NG_04\n",
            "- NG_05\n",
            "- NG_06\n",
            "- NG_07\n",
            "- NG_08\n",
            "- NG_09\n",
            "- NG_10\n",
            "- NG_11\n",
            "- NG_12\n",
            "- NG_13\n",
            "- NG_14\n",
            "- NG_15\n",
            "- NG_16\n",
            "- NG_17\n",
            "- NG_18\n",
            "- NG_19\n",
            "- NG_20\n",
            "- NG_21\n",
            "- NG_22\n",
            "- NG_23\n",
            "- NG_24\n",
            "- NG_25\n",
            "- NG_26\n",
            "- NG_27\n",
            "- NG_28\n",
            "- NG_29\n",
            "- NG_30\n",
            "- NG_31\n",
            "- NG_32\n",
            "- NG_33\n",
            "- NG_34\n",
            "- NG_35\n",
            "- NG_36\n",
            "- NG_37\n",
            "- NG_38\n",
            "- NG_39\n",
            "- NG_40\n",
            "- NG_41\n",
            "- NG_42\n",
            "- NG_43\n",
            "- NG_44\n",
            "- NG_45\n",
            "- NG_46\n",
            "- NG_47\n",
            "- NG_48\n",
            "- NG_49\n",
            "- NG_50\n",
            "- OK_01\n",
            "- OK_02\n",
            "- OK_03\n",
            "- OK_04\n",
            "- OK_05\n",
            "- OK_06\n",
            "- OK_07\n",
            "- OK_08\n",
            "- OK_09\n",
            "- OK_10\n",
            "- OK_11\n",
            "- OK_12\n",
            "- OK_13\n",
            "- OK_14\n",
            "- OK_15\n",
            "- OK_16\n",
            "- OK_17\n",
            "- OK_18\n",
            "- OK_19\n",
            "- OK_20\n",
            "- OK_21\n",
            "- OK_22\n",
            "- OK_23\n",
            "- OK_24\n",
            "- OK_25\n",
            "- OK_26\n",
            "- OK_27\n",
            "- OK_28\n",
            "- OK_29\n",
            "- OK_30\n",
            "- OK_31\n",
            "- OK_32\n",
            "- OK_33\n",
            "- OK_34\n",
            "- OK_35\n",
            "- OK_36\n",
            "- OK_37\n",
            "- OK_38\n",
            "- OK_39\n",
            "- OK_40\n",
            "- OK_41\n",
            "- OK_42\n",
            "- OK_43\n",
            "- OK_44\n",
            "- OK_45\n",
            "- OK_46\n",
            "- OK_47\n",
            "- OK_48\n",
            "- OK_49\n",
            "- OK_50\n",
            "nc: 100\n",
            "roboflow:\n",
            "  license: CC BY 4.0\n",
            "  project: logo-wqq57\n",
            "  url: https://universe.roboflow.com/hs-esyhr/logo-wqq57/dataset/1\n",
            "  version: 1\n",
            "  workspace: hs-esyhr\n",
            "test: ../test/images\n",
            "train: /content/dataset/train.txt\n",
            "val: /content/dataset/val.txt\n"
          ]
        }
      ]
    },
    {
      "cell_type": "code",
      "source": [
        "!cat /content/yolov5/models/yolov5s.yaml"
      ],
      "metadata": {
        "colab": {
          "base_uri": "https://localhost:8080/"
        },
        "id": "uh6fesjeuuTI",
        "outputId": "de77dc04-663a-4723-d664-5c6c5ab48df7"
      },
      "execution_count": 22,
      "outputs": [
        {
          "output_type": "stream",
          "name": "stdout",
          "text": [
            "# YOLOv5 🚀 by Ultralytics, AGPL-3.0 license\n",
            "\n",
            "# Parameters\n",
            "nc: 80  # number of classes\n",
            "depth_multiple: 0.33  # model depth multiple\n",
            "width_multiple: 0.50  # layer channel multiple\n",
            "anchors:\n",
            "  - [10,13, 16,30, 33,23]  # P3/8\n",
            "  - [30,61, 62,45, 59,119]  # P4/16\n",
            "  - [116,90, 156,198, 373,326]  # P5/32\n",
            "\n",
            "# YOLOv5 v6.0 backbone\n",
            "backbone:\n",
            "  # [from, number, module, args]\n",
            "  [[-1, 1, Conv, [64, 6, 2, 2]],  # 0-P1/2\n",
            "   [-1, 1, Conv, [128, 3, 2]],  # 1-P2/4\n",
            "   [-1, 3, C3, [128]],\n",
            "   [-1, 1, Conv, [256, 3, 2]],  # 3-P3/8\n",
            "   [-1, 6, C3, [256]],\n",
            "   [-1, 1, Conv, [512, 3, 2]],  # 5-P4/16\n",
            "   [-1, 9, C3, [512]],\n",
            "   [-1, 1, Conv, [1024, 3, 2]],  # 7-P5/32\n",
            "   [-1, 3, C3, [1024]],\n",
            "   [-1, 1, SPPF, [1024, 5]],  # 9\n",
            "  ]\n",
            "\n",
            "# YOLOv5 v6.0 head\n",
            "head:\n",
            "  [[-1, 1, Conv, [512, 1, 1]],\n",
            "   [-1, 1, nn.Upsample, [None, 2, 'nearest']],\n",
            "   [[-1, 6], 1, Concat, [1]],  # cat backbone P4\n",
            "   [-1, 3, C3, [512, False]],  # 13\n",
            "\n",
            "   [-1, 1, Conv, [256, 1, 1]],\n",
            "   [-1, 1, nn.Upsample, [None, 2, 'nearest']],\n",
            "   [[-1, 4], 1, Concat, [1]],  # cat backbone P3\n",
            "   [-1, 3, C3, [256, False]],  # 17 (P3/8-small)\n",
            "\n",
            "   [-1, 1, Conv, [256, 3, 2]],\n",
            "   [[-1, 14], 1, Concat, [1]],  # cat head P4\n",
            "   [-1, 3, C3, [512, False]],  # 20 (P4/16-medium)\n",
            "\n",
            "   [-1, 1, Conv, [512, 3, 2]],\n",
            "   [[-1, 10], 1, Concat, [1]],  # cat head P5\n",
            "   [-1, 3, C3, [1024, False]],  # 23 (P5/32-large)\n",
            "\n",
            "   [[17, 20, 23], 1, Detect, [nc, anchors]],  # Detect(P3, P4, P5)\n",
            "  ]\n"
          ]
        }
      ]
    },
    {
      "cell_type": "code",
      "source": [
        "# 10회 반복학습 실시\n",
        "%cd /content/yolov5/\n",
        "\n",
        "!python train.py --img 416 --batch 16 --epochs 10 --data /content/dataset/data.yaml --cfg ./models/yolov5s.yaml --weights yolov5s.pt --name gun_yolov5s_results"
      ],
      "metadata": {
        "colab": {
          "base_uri": "https://localhost:8080/"
        },
        "id": "0oCJuEaruuO0",
        "outputId": "eadd2871-a378-4004-c394-c4b2f9bf9a31"
      },
      "execution_count": 23,
      "outputs": [
        {
          "output_type": "stream",
          "name": "stdout",
          "text": [
            "/content/yolov5\n",
            "\u001b[34m\u001b[1mtrain: \u001b[0mweights=yolov5s.pt, cfg=./models/yolov5s.yaml, data=/content/dataset/data.yaml, hyp=data/hyps/hyp.scratch-low.yaml, epochs=10, batch_size=16, imgsz=416, rect=False, resume=False, nosave=False, noval=False, noautoanchor=False, noplots=False, evolve=None, bucket=, cache=None, image_weights=False, device=, multi_scale=False, single_cls=False, optimizer=SGD, sync_bn=False, workers=8, project=runs/train, name=gun_yolov5s_results, exist_ok=False, quad=False, cos_lr=False, label_smoothing=0.0, patience=100, freeze=[0], save_period=-1, seed=0, local_rank=-1, entity=None, upload_dataset=False, bbox_interval=-1, artifact_alias=latest\n",
            "\u001b[34m\u001b[1mgithub: \u001b[0mup to date with https://github.com/ultralytics/yolov5 ✅\n",
            "YOLOv5 🚀 v7.0-210-gdd10481 Python-3.10.12 torch-2.0.1+cu118 CPU\n",
            "\n",
            "\u001b[34m\u001b[1mhyperparameters: \u001b[0mlr0=0.01, lrf=0.01, momentum=0.937, weight_decay=0.0005, warmup_epochs=3.0, warmup_momentum=0.8, warmup_bias_lr=0.1, box=0.05, cls=0.5, cls_pw=1.0, obj=1.0, obj_pw=1.0, iou_t=0.2, anchor_t=4.0, fl_gamma=0.0, hsv_h=0.015, hsv_s=0.7, hsv_v=0.4, degrees=0.0, translate=0.1, scale=0.5, shear=0.0, perspective=0.0, flipud=0.0, fliplr=0.5, mosaic=1.0, mixup=0.0, copy_paste=0.0\n",
            "\u001b[34m\u001b[1mComet: \u001b[0mrun 'pip install comet_ml' to automatically track and visualize YOLOv5 🚀 runs in Comet\n",
            "\u001b[34m\u001b[1mTensorBoard: \u001b[0mStart with 'tensorboard --logdir runs/train', view at http://localhost:6006/\n",
            "Downloading https://ultralytics.com/assets/Arial.ttf to /root/.config/Ultralytics/Arial.ttf...\n",
            "100% 755k/755k [00:00<00:00, 14.5MB/s]\n",
            "Downloading https://github.com/ultralytics/yolov5/releases/download/v7.0/yolov5s.pt to yolov5s.pt...\n",
            "100% 14.1M/14.1M [00:00<00:00, 115MB/s] \n",
            "\n",
            "Overriding model.yaml nc=80 with nc=100\n",
            "\n",
            "                 from  n    params  module                                  arguments                     \n",
            "  0                -1  1      3520  models.common.Conv                      [3, 32, 6, 2, 2]              \n",
            "  1                -1  1     18560  models.common.Conv                      [32, 64, 3, 2]                \n",
            "  2                -1  1     18816  models.common.C3                        [64, 64, 1]                   \n",
            "  3                -1  1     73984  models.common.Conv                      [64, 128, 3, 2]               \n",
            "  4                -1  2    115712  models.common.C3                        [128, 128, 2]                 \n",
            "  5                -1  1    295424  models.common.Conv                      [128, 256, 3, 2]              \n",
            "  6                -1  3    625152  models.common.C3                        [256, 256, 3]                 \n",
            "  7                -1  1   1180672  models.common.Conv                      [256, 512, 3, 2]              \n",
            "  8                -1  1   1182720  models.common.C3                        [512, 512, 1]                 \n",
            "  9                -1  1    656896  models.common.SPPF                      [512, 512, 5]                 \n",
            " 10                -1  1    131584  models.common.Conv                      [512, 256, 1, 1]              \n",
            " 11                -1  1         0  torch.nn.modules.upsampling.Upsample    [None, 2, 'nearest']          \n",
            " 12           [-1, 6]  1         0  models.common.Concat                    [1]                           \n",
            " 13                -1  1    361984  models.common.C3                        [512, 256, 1, False]          \n",
            " 14                -1  1     33024  models.common.Conv                      [256, 128, 1, 1]              \n",
            " 15                -1  1         0  torch.nn.modules.upsampling.Upsample    [None, 2, 'nearest']          \n",
            " 16           [-1, 4]  1         0  models.common.Concat                    [1]                           \n",
            " 17                -1  1     90880  models.common.C3                        [256, 128, 1, False]          \n",
            " 18                -1  1    147712  models.common.Conv                      [128, 128, 3, 2]              \n",
            " 19          [-1, 14]  1         0  models.common.Concat                    [1]                           \n",
            " 20                -1  1    296448  models.common.C3                        [256, 256, 1, False]          \n",
            " 21                -1  1    590336  models.common.Conv                      [256, 256, 3, 2]              \n",
            " 22          [-1, 10]  1         0  models.common.Concat                    [1]                           \n",
            " 23                -1  1   1182720  models.common.C3                        [512, 512, 1, False]          \n",
            " 24      [17, 20, 23]  1    283185  models.yolo.Detect                      [100, [[10, 13, 16, 30, 33, 23], [30, 61, 62, 45, 59, 119], [116, 90, 156, 198, 373, 326]], [128, 256, 512]]\n",
            "YOLOv5s summary: 214 layers, 7289329 parameters, 7289329 gradients, 16.8 GFLOPs\n",
            "\n",
            "Transferred 342/349 items from yolov5s.pt\n",
            "\u001b[34m\u001b[1moptimizer:\u001b[0m SGD(lr=0.01) with parameter groups 57 weight(decay=0.0), 60 weight(decay=0.0005), 60 bias\n",
            "\u001b[34m\u001b[1malbumentations: \u001b[0mBlur(p=0.01, blur_limit=(3, 7)), MedianBlur(p=0.01, blur_limit=(3, 7)), ToGray(p=0.01), CLAHE(p=0.01, clip_limit=(1, 4.0), tile_grid_size=(8, 8))\n",
            "\u001b[34m\u001b[1mtrain: \u001b[0mScanning /content/dataset/train... 70 images, 0 backgrounds, 0 corrupt: 100% 70/70 [00:00<00:00, 1036.92it/s]\n",
            "\u001b[34m\u001b[1mtrain: \u001b[0mNew cache created: /content/dataset/train.cache\n",
            "\u001b[34m\u001b[1mval: \u001b[0mScanning /content/dataset/val... 20 images, 0 backgrounds, 0 corrupt: 100% 20/20 [00:00<00:00, 514.71it/s]\n",
            "\u001b[34m\u001b[1mval: \u001b[0mNew cache created: /content/dataset/val.cache\n",
            "\n",
            "\u001b[34m\u001b[1mAutoAnchor: \u001b[0m3.00 anchors/target, 1.000 Best Possible Recall (BPR). Current anchors are a good fit to dataset ✅\n",
            "Plotting labels to runs/train/gun_yolov5s_results/labels.jpg... \n",
            "Image sizes 416 train, 416 val\n",
            "Using 2 dataloader workers\n",
            "Logging results to \u001b[1mruns/train/gun_yolov5s_results\u001b[0m\n",
            "Starting training for 10 epochs...\n",
            "\n",
            "      Epoch    GPU_mem   box_loss   obj_loss   cls_loss  Instances       Size\n",
            "        0/9         0G     0.1032    0.01983    0.09777         16        416: 100% 5/5 [00:56<00:00, 11.35s/it]\n",
            "                 Class     Images  Instances          P          R      mAP50   mAP50-95: 100% 1/1 [00:04<00:00,  4.32s/it]\n",
            "                   all         20         20   0.000463       0.05   0.000547   0.000109\n",
            "\n",
            "      Epoch    GPU_mem   box_loss   obj_loss   cls_loss  Instances       Size\n",
            "        1/9         0G     0.1163    0.02038      0.119         13        416: 100% 5/5 [00:46<00:00,  9.30s/it]\n",
            "                 Class     Images  Instances          P          R      mAP50   mAP50-95: 100% 1/1 [00:04<00:00,  4.27s/it]\n",
            "                   all         20         20   0.000556       0.05   0.000777   0.000233\n",
            "\n",
            "      Epoch    GPU_mem   box_loss   obj_loss   cls_loss  Instances       Size\n",
            "        2/9         0G     0.1123    0.02186     0.1196         12        416: 100% 5/5 [00:44<00:00,  8.89s/it]\n",
            "                 Class     Images  Instances          P          R      mAP50   mAP50-95: 100% 1/1 [00:05<00:00,  5.66s/it]\n",
            "                   all         20         20   0.000602       0.05    0.00134    0.00022\n",
            "\n",
            "      Epoch    GPU_mem   box_loss   obj_loss   cls_loss  Instances       Size\n",
            "        3/9         0G    0.09143    0.02467     0.1068         24        416: 100% 5/5 [00:44<00:00,  8.88s/it]\n",
            "                 Class     Images  Instances          P          R      mAP50   mAP50-95: 100% 1/1 [00:04<00:00,  4.33s/it]\n",
            "                   all         20         20          0          0          0          0\n",
            "\n",
            "      Epoch    GPU_mem   box_loss   obj_loss   cls_loss  Instances       Size\n",
            "        4/9         0G     0.0879    0.02307     0.1057         15        416: 100% 5/5 [00:45<00:00,  9.12s/it]\n",
            "                 Class     Images  Instances          P          R      mAP50   mAP50-95: 100% 1/1 [00:05<00:00,  5.01s/it]\n",
            "                   all         20         20          0          0          0          0\n",
            "\n",
            "      Epoch    GPU_mem   box_loss   obj_loss   cls_loss  Instances       Size\n",
            "        5/9         0G    0.07733    0.02394     0.1051         17        416: 100% 5/5 [00:46<00:00,  9.23s/it]\n",
            "                 Class     Images  Instances          P          R      mAP50   mAP50-95: 100% 1/1 [00:04<00:00,  4.71s/it]\n",
            "                   all         20         20          0          0          0          0\n",
            "\n",
            "      Epoch    GPU_mem   box_loss   obj_loss   cls_loss  Instances       Size\n",
            "        6/9         0G    0.07098    0.02665    0.09559         14        416: 100% 5/5 [00:44<00:00,  8.98s/it]\n",
            "                 Class     Images  Instances          P          R      mAP50   mAP50-95: 100% 1/1 [00:05<00:00,  5.61s/it]\n",
            "                   all         20         20          0          0          0          0\n",
            "\n",
            "      Epoch    GPU_mem   box_loss   obj_loss   cls_loss  Instances       Size\n",
            "        7/9         0G    0.06425    0.02641    0.09604         17        416: 100% 5/5 [00:43<00:00,  8.77s/it]\n",
            "                 Class     Images  Instances          P          R      mAP50   mAP50-95: 100% 1/1 [00:04<00:00,  4.27s/it]\n",
            "                   all         20         20    0.00455       0.05    0.00498   0.000995\n",
            "\n",
            "      Epoch    GPU_mem   box_loss   obj_loss   cls_loss  Instances       Size\n",
            "        8/9         0G    0.06711     0.0252     0.1033         16        416: 100% 5/5 [00:44<00:00,  8.94s/it]\n",
            "                 Class     Images  Instances          P          R      mAP50   mAP50-95: 100% 1/1 [00:04<00:00,  4.85s/it]\n",
            "                   all         20         20    0.00468        0.1    0.00882    0.00187\n",
            "\n",
            "      Epoch    GPU_mem   box_loss   obj_loss   cls_loss  Instances       Size\n",
            "        9/9         0G    0.06581    0.02534    0.09899         14        416: 100% 5/5 [00:43<00:00,  8.78s/it]\n",
            "                 Class     Images  Instances          P          R      mAP50   mAP50-95: 100% 1/1 [00:04<00:00,  4.92s/it]\n",
            "                   all         20         20    0.00575       0.15     0.0274    0.00665\n",
            "\n",
            "10 epochs completed in 0.143 hours.\n",
            "Optimizer stripped from runs/train/gun_yolov5s_results/weights/last.pt, 14.9MB\n",
            "Optimizer stripped from runs/train/gun_yolov5s_results/weights/best.pt, 14.9MB\n",
            "\n",
            "Validating runs/train/gun_yolov5s_results/weights/best.pt...\n",
            "Fusing layers... \n",
            "YOLOv5s summary: 157 layers, 7279825 parameters, 0 gradients, 16.6 GFLOPs\n",
            "                 Class     Images  Instances          P          R      mAP50   mAP50-95: 100% 1/1 [00:04<00:00,  4.12s/it]\n",
            "                   all         20         20    0.00525       0.15     0.0274    0.00665\n",
            "                 NG_02         20          1      0.027          1     0.0398    0.00398\n",
            "                 NG_03         20          1          0          0          0          0\n",
            "                 NG_07         20          1          0          0          0          0\n",
            "                 NG_13         20          1          0          0          0          0\n",
            "                 NG_26         20          1          0          0          0          0\n",
            "                 NG_31         20          1          0          0          0          0\n",
            "                 NG_34         20          1          0          0          0          0\n",
            "                 NG_37         20          1          0          0          0          0\n",
            "                 NG_38         20          1          0          0          0          0\n",
            "                 NG_39         20          1          0          0          0          0\n",
            "                 NG_40         20          1          0          0          0          0\n",
            "                 NG_43         20          1          0          0          0          0\n",
            "                 OK_14         20          1          0          0          0          0\n",
            "                 OK_23         20          1          0          0          0          0\n",
            "                 OK_25         20          1     0.0114          1     0.0116    0.00463\n",
            "                 OK_29         20          1          0          0          0          0\n",
            "                 OK_34         20          1          0          0          0          0\n",
            "                 OK_35         20          1     0.0667          1      0.497      0.124\n",
            "                 OK_42         20          1          0          0          0          0\n",
            "                 OK_48         20          1          0          0          0          0\n",
            "Results saved to \u001b[1mruns/train/gun_yolov5s_results\u001b[0m\n"
          ]
        }
      ]
    },
    {
      "cell_type": "code",
      "source": [
        "#결과보기 : tensorboard #10회반복\n",
        "%load_ext tensorboard\n",
        "%tensorboard --logdir /content/yolov5/runs/"
      ],
      "metadata": {
        "id": "Uxyj3ruYuuKr"
      },
      "execution_count": null,
      "outputs": []
    },
    {
      "cell_type": "code",
      "source": [
        "from IPython.display import Image\n",
        "import os\n",
        "\n",
        "val_img_path = val_img_list[3]\n",
        "val_img_path"
      ],
      "metadata": {
        "id": "rmVIflXcu4DC"
      },
      "execution_count": null,
      "outputs": []
    },
    {
      "cell_type": "code",
      "source": [
        "!python detect.py --weights /content/yolov5/runs/train/gun_yolov5s_results/weights/best.pt --img 416 --conf 0.6 --save-txt --save-crop --save-conf --source /content/dataset/valid/images"
      ],
      "metadata": {
        "id": "l_C8drpFu3_c"
      },
      "execution_count": null,
      "outputs": []
    },
    {
      "cell_type": "code",
      "source": [
        "!python detect.py --weights /content/drive/MyDrive/1backup/best.pt --img 416 --conf 0.6 --save-txt --save-crop --save-conf --source val_img_list[29]"
      ],
      "metadata": {
        "id": "26Gfb-qzu34-"
      },
      "execution_count": null,
      "outputs": []
    },
    {
      "cell_type": "code",
      "source": [
        "val_img_list[4]"
      ],
      "metadata": {
        "id": "tJNu6DmJu316"
      },
      "execution_count": null,
      "outputs": []
    },
    {
      "cell_type": "code",
      "source": [
        "val_img_path = val_img_list[4]\n",
        "img_file = os.path.join('/content/dataset/valid/images/', os.path.basename(val_img_path))\n",
        "Image(img_file)"
      ],
      "metadata": {
        "id": "hxm8Y7Jlu3yS"
      },
      "execution_count": null,
      "outputs": []
    },
    {
      "cell_type": "code",
      "source": [
        "img_file"
      ],
      "metadata": {
        "id": "PPwYEpACu3vF"
      },
      "execution_count": null,
      "outputs": []
    },
    {
      "cell_type": "code",
      "source": [
        "!python detect.py --weights /content/drive/MyDrive/1backup/best.pt --img 416 --conf 0.6 --save-txt --save-crop --save-conf --source {img_file}"
      ],
      "metadata": {
        "id": "ozdN1CjOvcny"
      },
      "execution_count": null,
      "outputs": []
    },
    {
      "cell_type": "code",
      "source": [
        "output = '/content/dataset/valid/images/NG_016_JPG.rf.e246c3ef8a2a9ac8baeadc1782fb5029.jpg'\n",
        "Image(output)"
      ],
      "metadata": {
        "id": "04qhCZ5Gvck4"
      },
      "execution_count": null,
      "outputs": []
    },
    {
      "cell_type": "code",
      "source": [
        "%cd /content/yolov5/\n",
        "\n",
        "!python train.py --img 416 --batch 16 --epochs 30 --data /content/dataset/data.yaml --cfg ./models/yolov5s.yaml --weights yolov5s.pt --name gun_yolov5s_results"
      ],
      "metadata": {
        "id": "koCWFo0dvcfE"
      },
      "execution_count": null,
      "outputs": []
    },
    {
      "cell_type": "code",
      "source": [
        "#결과보기 : tensorboard\n",
        "%load_ext tensorboard\n",
        "%tensorboard --logdir /content/yolov5/runs/"
      ],
      "metadata": {
        "id": "ySuAbHkzvcce"
      },
      "execution_count": null,
      "outputs": []
    },
    {
      "cell_type": "code",
      "source": [
        "from IPython.display import Image\n",
        "import os\n",
        "\n",
        "val_img_path = val_img_list[3]\n",
        "val_img_path"
      ],
      "metadata": {
        "id": "CtQNuiUqvcZd"
      },
      "execution_count": null,
      "outputs": []
    },
    {
      "cell_type": "code",
      "source": [
        "!python detect.py --weights /content/yolov5/runs/train/gun_yolov5s_results2/weights/best.pt --img 416 --conf 0.6 --save-txt --save-crop --save-conf --source /content/dataset/valid/images"
      ],
      "metadata": {
        "id": "KCoX1NOrvcWr"
      },
      "execution_count": null,
      "outputs": []
    },
    {
      "cell_type": "code",
      "source": [
        "val_img_list[3]"
      ],
      "metadata": {
        "id": "--QeCRKFvcT8"
      },
      "execution_count": null,
      "outputs": []
    },
    {
      "cell_type": "code",
      "source": [
        "!python detect.py --weights /content/yolov5/runs/train/gun_yolov5s_results2/weights/best.pt --img 416 --conf 0.6 --save-txt --save-crop --save-conf --source {img_file}"
      ],
      "metadata": {
        "id": "8uwQzKH5vcRI"
      },
      "execution_count": null,
      "outputs": []
    },
    {
      "cell_type": "code",
      "source": [
        "output = '/content/yolov5/runs/detect/exp4/NG_046_JPG.rf.05371515f69d6d8d2488fbce75ae74f6.jpg'\n",
        "Image(output)"
      ],
      "metadata": {
        "id": "mzqHXEmevcOE"
      },
      "execution_count": null,
      "outputs": []
    }
  ]
}